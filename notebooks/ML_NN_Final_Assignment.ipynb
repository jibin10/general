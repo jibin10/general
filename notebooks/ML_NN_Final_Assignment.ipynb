{
 "cells": [
  {
   "cell_type": "markdown",
   "id": "8bb56e35",
   "metadata": {},
   "source": [
    "## 1. Introduction"
   ]
  },
  {
   "cell_type": "markdown",
   "id": "3cb48906",
   "metadata": {},
   "source": [
    "Healthcare costs keep increasing in the US for several decades. According to The Centers for Medicare & Medicaid Services, the national health expenditure increased 9.7% ($4.1 Trillion) in 2020 and is projected to grow by 5.4% annually [1. CMS, 2020]. Other than government policy, there are many factors contributing to the rise of healthcare costs. The Journal of the American Medical Association conducted a study and concluded that population growth, population aging, disease prevalence or incidence, service utilization, and service price and intensity are the factors affecting healthcare costs [2. JAMA, 2017].\n",
    "\n",
    "Private health insurance premiums are also showing the same trend. The Peterson-Kaiser Family Foundation analysed data from 72 private insurers from 13 states in the US and found that the premiums will increase 10% by 2023 [3. Peterson-KFF, 2022]. These factors lead me to analyse personal data from people across the country and build a deep learning model to predict the individual medical costs billed by the insurer."
   ]
  },
  {
   "cell_type": "markdown",
   "id": "5d5a556c",
   "metadata": {},
   "source": [
    "## 2. Define a problem"
   ]
  },
  {
   "cell_type": "markdown",
   "id": "a3373b0f",
   "metadata": {},
   "source": [
    "The JAMA'S study [reference 2] showed that population growth, age, disease prevalence etc, are among the factors affecting healthcare costs. Based on this study, this project needs a dataset of individuals from different parts of the US to build the model. As the medical cost is a scalar, this is a scalar regression problem. Our dataset should have features like age, sex and region, individual medical costs etc, to even consider building a predictive model. Our research identified such a dataset, and it is described in section 3.\n",
    "\n",
    "### 2.1 Hypothesis\n",
    "\n",
    "We hypothesise that the individual's age, sex, BMI, smoking habit, and region data can be used to predict the medical costs billed by the insurer."
   ]
  },
  {
   "cell_type": "markdown",
   "id": "351c85b1",
   "metadata": {},
   "source": [
    "## 3. Objectives"
   ]
  },
  {
   "cell_type": "markdown",
   "id": "feb3d188",
   "metadata": {},
   "source": [
    "Use deep neural networks to build a model that can train on the given data and predict the medical costs of the individual on the unseen data. It should be an ideal model that should not underfit or overfit the training data. Even if other ML models offer a better result, use deep neural networks to build the baseline and main models.\n",
    "\n",
    "**Out of scope**\n",
    "\n",
    "Any machine learning methods other than deep neural networks."
   ]
  },
  {
   "cell_type": "markdown",
   "id": "e1b943c1",
   "metadata": {},
   "source": [
    "## 4. Dataset"
   ]
  },
  {
   "cell_type": "markdown",
   "id": "a86eb292",
   "metadata": {},
   "source": [
    "Extensive research has been done to identify an ideal dataset for the investigation. Many of the US medical cost datasets available were not balanced. The Medical Cost Personal Datasets on Kaggle by Miri Choi came to attention at this point [3]. It is available under the Database Contents License (DbCL) v1.0 license [4]. Kaggle has a good reputation among data scientists. This dataset has a usability score of 8.8 (calculated by Kaggle), 1880 upvotes, and 889 Notebooks using it for analysis. There is enough evidence on the quality of the dataset and the reliability of the source to select this dataset for our investigation.\n",
    "\n",
    "The dataset is available in CSV format. It has stored the features of 1338 individuals. The features include age, sex, BMI, number of children, smoker or not, region, and medical charges. After removing the duplicates, there are 662 female and 675 male samples. 325 individuals are from the southwest region, 364 from the southeast, and 324 from the northwest and northeast. Based on these numbers, the dataset selected is well balanced to investigate the medical cost problem. The number of smokers in the dataset is less than non smokers, and it makes the dataset more realistic."
   ]
  },
  {
   "cell_type": "markdown",
   "id": "f98a7ed4",
   "metadata": {},
   "source": [
    "### 4.1 Preprocessing"
   ]
  },
  {
   "cell_type": "markdown",
   "id": "302971a3",
   "metadata": {},
   "source": [
    "The preprocessing step is part of the data preparation for machine learning. We remove duplicate and empty data samples and do other manipulations to improve the quality of the dataset without losing the core features."
   ]
  },
  {
   "cell_type": "code",
   "execution_count": 1,
   "id": "4311dd0d",
   "metadata": {},
   "outputs": [],
   "source": [
    "# import pandas and csv libraries\n",
    "import pandas as pd\n",
    "import csv"
   ]
  },
  {
   "cell_type": "markdown",
   "id": "8a965402",
   "metadata": {},
   "source": [
    "Read the csv data into a python dataframe for further analysis."
   ]
  },
  {
   "cell_type": "code",
   "execution_count": 2,
   "id": "d1ab70dd",
   "metadata": {},
   "outputs": [
    {
     "data": {
      "text/html": [
       "<div>\n",
       "<style scoped>\n",
       "    .dataframe tbody tr th:only-of-type {\n",
       "        vertical-align: middle;\n",
       "    }\n",
       "\n",
       "    .dataframe tbody tr th {\n",
       "        vertical-align: top;\n",
       "    }\n",
       "\n",
       "    .dataframe thead th {\n",
       "        text-align: right;\n",
       "    }\n",
       "</style>\n",
       "<table border=\"1\" class=\"dataframe\">\n",
       "  <thead>\n",
       "    <tr style=\"text-align: right;\">\n",
       "      <th></th>\n",
       "      <th>age</th>\n",
       "      <th>sex</th>\n",
       "      <th>bmi</th>\n",
       "      <th>children</th>\n",
       "      <th>smoker</th>\n",
       "      <th>region</th>\n",
       "      <th>charges</th>\n",
       "    </tr>\n",
       "  </thead>\n",
       "  <tbody>\n",
       "    <tr>\n",
       "      <th>0</th>\n",
       "      <td>19</td>\n",
       "      <td>female</td>\n",
       "      <td>27.900</td>\n",
       "      <td>0</td>\n",
       "      <td>yes</td>\n",
       "      <td>southwest</td>\n",
       "      <td>16884.92400</td>\n",
       "    </tr>\n",
       "    <tr>\n",
       "      <th>1</th>\n",
       "      <td>18</td>\n",
       "      <td>male</td>\n",
       "      <td>33.770</td>\n",
       "      <td>1</td>\n",
       "      <td>no</td>\n",
       "      <td>southeast</td>\n",
       "      <td>1725.55230</td>\n",
       "    </tr>\n",
       "    <tr>\n",
       "      <th>2</th>\n",
       "      <td>28</td>\n",
       "      <td>male</td>\n",
       "      <td>33.000</td>\n",
       "      <td>3</td>\n",
       "      <td>no</td>\n",
       "      <td>southeast</td>\n",
       "      <td>4449.46200</td>\n",
       "    </tr>\n",
       "    <tr>\n",
       "      <th>3</th>\n",
       "      <td>33</td>\n",
       "      <td>male</td>\n",
       "      <td>22.705</td>\n",
       "      <td>0</td>\n",
       "      <td>no</td>\n",
       "      <td>northwest</td>\n",
       "      <td>21984.47061</td>\n",
       "    </tr>\n",
       "    <tr>\n",
       "      <th>4</th>\n",
       "      <td>32</td>\n",
       "      <td>male</td>\n",
       "      <td>28.880</td>\n",
       "      <td>0</td>\n",
       "      <td>no</td>\n",
       "      <td>northwest</td>\n",
       "      <td>3866.85520</td>\n",
       "    </tr>\n",
       "  </tbody>\n",
       "</table>\n",
       "</div>"
      ],
      "text/plain": [
       "   age     sex     bmi  children smoker     region      charges\n",
       "0   19  female  27.900         0    yes  southwest  16884.92400\n",
       "1   18    male  33.770         1     no  southeast   1725.55230\n",
       "2   28    male  33.000         3     no  southeast   4449.46200\n",
       "3   33    male  22.705         0     no  northwest  21984.47061\n",
       "4   32    male  28.880         0     no  northwest   3866.85520"
      ]
     },
     "execution_count": 2,
     "metadata": {},
     "output_type": "execute_result"
    }
   ],
   "source": [
    "# read the csv data and print the first 5 rows\n",
    "medical_data = pd.read_csv(\"insurance.csv\")\n",
    "medical_data.head()"
   ]
  },
  {
   "cell_type": "code",
   "execution_count": 3,
   "id": "b27354e1",
   "metadata": {},
   "outputs": [
    {
     "data": {
      "text/plain": [
       "(1338, 7)"
      ]
     },
     "execution_count": 3,
     "metadata": {},
     "output_type": "execute_result"
    }
   ],
   "source": [
    "# check the shape of the dataset\n",
    "medical_data.shape"
   ]
  },
  {
   "cell_type": "markdown",
   "id": "4bfad220",
   "metadata": {},
   "source": [
    "Use the python dataframe's describe() method to do descriptive statistical analysis on the numerical columns in the dataset."
   ]
  },
  {
   "cell_type": "code",
   "execution_count": 4,
   "id": "ad15f918",
   "metadata": {},
   "outputs": [
    {
     "data": {
      "text/html": [
       "<div>\n",
       "<style scoped>\n",
       "    .dataframe tbody tr th:only-of-type {\n",
       "        vertical-align: middle;\n",
       "    }\n",
       "\n",
       "    .dataframe tbody tr th {\n",
       "        vertical-align: top;\n",
       "    }\n",
       "\n",
       "    .dataframe thead th {\n",
       "        text-align: right;\n",
       "    }\n",
       "</style>\n",
       "<table border=\"1\" class=\"dataframe\">\n",
       "  <thead>\n",
       "    <tr style=\"text-align: right;\">\n",
       "      <th></th>\n",
       "      <th>age</th>\n",
       "      <th>bmi</th>\n",
       "      <th>children</th>\n",
       "      <th>charges</th>\n",
       "    </tr>\n",
       "  </thead>\n",
       "  <tbody>\n",
       "    <tr>\n",
       "      <th>count</th>\n",
       "      <td>1338.000000</td>\n",
       "      <td>1338.000000</td>\n",
       "      <td>1338.000000</td>\n",
       "      <td>1338.000000</td>\n",
       "    </tr>\n",
       "    <tr>\n",
       "      <th>mean</th>\n",
       "      <td>39.207025</td>\n",
       "      <td>30.663397</td>\n",
       "      <td>1.094918</td>\n",
       "      <td>13270.422265</td>\n",
       "    </tr>\n",
       "    <tr>\n",
       "      <th>std</th>\n",
       "      <td>14.049960</td>\n",
       "      <td>6.098187</td>\n",
       "      <td>1.205493</td>\n",
       "      <td>12110.011237</td>\n",
       "    </tr>\n",
       "    <tr>\n",
       "      <th>min</th>\n",
       "      <td>18.000000</td>\n",
       "      <td>15.960000</td>\n",
       "      <td>0.000000</td>\n",
       "      <td>1121.873900</td>\n",
       "    </tr>\n",
       "    <tr>\n",
       "      <th>25%</th>\n",
       "      <td>27.000000</td>\n",
       "      <td>26.296250</td>\n",
       "      <td>0.000000</td>\n",
       "      <td>4740.287150</td>\n",
       "    </tr>\n",
       "    <tr>\n",
       "      <th>50%</th>\n",
       "      <td>39.000000</td>\n",
       "      <td>30.400000</td>\n",
       "      <td>1.000000</td>\n",
       "      <td>9382.033000</td>\n",
       "    </tr>\n",
       "    <tr>\n",
       "      <th>75%</th>\n",
       "      <td>51.000000</td>\n",
       "      <td>34.693750</td>\n",
       "      <td>2.000000</td>\n",
       "      <td>16639.912515</td>\n",
       "    </tr>\n",
       "    <tr>\n",
       "      <th>max</th>\n",
       "      <td>64.000000</td>\n",
       "      <td>53.130000</td>\n",
       "      <td>5.000000</td>\n",
       "      <td>63770.428010</td>\n",
       "    </tr>\n",
       "  </tbody>\n",
       "</table>\n",
       "</div>"
      ],
      "text/plain": [
       "               age          bmi     children       charges\n",
       "count  1338.000000  1338.000000  1338.000000   1338.000000\n",
       "mean     39.207025    30.663397     1.094918  13270.422265\n",
       "std      14.049960     6.098187     1.205493  12110.011237\n",
       "min      18.000000    15.960000     0.000000   1121.873900\n",
       "25%      27.000000    26.296250     0.000000   4740.287150\n",
       "50%      39.000000    30.400000     1.000000   9382.033000\n",
       "75%      51.000000    34.693750     2.000000  16639.912515\n",
       "max      64.000000    53.130000     5.000000  63770.428010"
      ]
     },
     "execution_count": 4,
     "metadata": {},
     "output_type": "execute_result"
    }
   ],
   "source": [
    "# generate descriptive stats\n",
    "medical_data.describe()"
   ]
  },
  {
   "cell_type": "markdown",
   "id": "e21d069c",
   "metadata": {},
   "source": [
    "Check for any null values in the columns."
   ]
  },
  {
   "cell_type": "code",
   "execution_count": 5,
   "id": "b478c080",
   "metadata": {},
   "outputs": [
    {
     "data": {
      "text/plain": [
       "age         False\n",
       "sex         False\n",
       "bmi         False\n",
       "children    False\n",
       "smoker      False\n",
       "region      False\n",
       "charges     False\n",
       "dtype: bool"
      ]
     },
     "execution_count": 5,
     "metadata": {},
     "output_type": "execute_result"
    }
   ],
   "source": [
    "# check for null or empty values\n",
    "medical_data.isna().any()"
   ]
  },
  {
   "cell_type": "markdown",
   "id": "b229b2db",
   "metadata": {},
   "source": [
    "There is no null or empty value in the columns. Let's now check if there are any duplicates in the data samples."
   ]
  },
  {
   "cell_type": "code",
   "execution_count": 6,
   "id": "842dc0ea",
   "metadata": {},
   "outputs": [
    {
     "data": {
      "text/plain": [
       "True"
      ]
     },
     "execution_count": 6,
     "metadata": {},
     "output_type": "execute_result"
    }
   ],
   "source": [
    "# check for duplicate values\n",
    "medical_data.duplicated().any()"
   ]
  },
  {
   "cell_type": "markdown",
   "id": "b1b80971",
   "metadata": {},
   "source": [
    "The result shows our dataset contains duplicate rows, let's print the duplicate row."
   ]
  },
  {
   "cell_type": "code",
   "execution_count": 7,
   "id": "2098a2ca",
   "metadata": {},
   "outputs": [
    {
     "data": {
      "text/html": [
       "<div>\n",
       "<style scoped>\n",
       "    .dataframe tbody tr th:only-of-type {\n",
       "        vertical-align: middle;\n",
       "    }\n",
       "\n",
       "    .dataframe tbody tr th {\n",
       "        vertical-align: top;\n",
       "    }\n",
       "\n",
       "    .dataframe thead th {\n",
       "        text-align: right;\n",
       "    }\n",
       "</style>\n",
       "<table border=\"1\" class=\"dataframe\">\n",
       "  <thead>\n",
       "    <tr style=\"text-align: right;\">\n",
       "      <th></th>\n",
       "      <th>age</th>\n",
       "      <th>sex</th>\n",
       "      <th>bmi</th>\n",
       "      <th>children</th>\n",
       "      <th>smoker</th>\n",
       "      <th>region</th>\n",
       "      <th>charges</th>\n",
       "    </tr>\n",
       "  </thead>\n",
       "  <tbody>\n",
       "    <tr>\n",
       "      <th>581</th>\n",
       "      <td>19</td>\n",
       "      <td>male</td>\n",
       "      <td>30.59</td>\n",
       "      <td>0</td>\n",
       "      <td>no</td>\n",
       "      <td>northwest</td>\n",
       "      <td>1639.5631</td>\n",
       "    </tr>\n",
       "  </tbody>\n",
       "</table>\n",
       "</div>"
      ],
      "text/plain": [
       "     age   sex    bmi  children smoker     region    charges\n",
       "581   19  male  30.59         0     no  northwest  1639.5631"
      ]
     },
     "execution_count": 7,
     "metadata": {},
     "output_type": "execute_result"
    }
   ],
   "source": [
    "# show duplicate data\n",
    "medical_data[medical_data.duplicated()]"
   ]
  },
  {
   "cell_type": "markdown",
   "id": "30d476f1",
   "metadata": {},
   "source": [
    "Drop the duplicate row and make sure we keep one instance of it."
   ]
  },
  {
   "cell_type": "code",
   "execution_count": 8,
   "id": "3779b7f9",
   "metadata": {},
   "outputs": [],
   "source": [
    "# drop the duplicate by keeping only one instance of it\n",
    "medical_data_updated = medical_data.drop_duplicates(subset=None, keep='first', inplace=False)"
   ]
  },
  {
   "cell_type": "code",
   "execution_count": 9,
   "id": "5941fe79",
   "metadata": {},
   "outputs": [
    {
     "data": {
      "text/plain": [
       "False"
      ]
     },
     "execution_count": 9,
     "metadata": {},
     "output_type": "execute_result"
    }
   ],
   "source": [
    "# check for duplicates\n",
    "medical_data_updated.duplicated().any()"
   ]
  },
  {
   "cell_type": "code",
   "execution_count": 10,
   "id": "b7d4cf35",
   "metadata": {},
   "outputs": [],
   "source": [
    "# reset the index after removing the duplicates\n",
    "medical_data_updated.reset_index(inplace=True)"
   ]
  },
  {
   "cell_type": "code",
   "execution_count": 11,
   "id": "6d55fd64",
   "metadata": {},
   "outputs": [],
   "source": [
    "# drop the old index in colmn one and save the updated dataset \n",
    "medical_data_updated = medical_data_updated.drop(medical_data_updated.columns[[0]], axis=1)"
   ]
  },
  {
   "cell_type": "markdown",
   "id": "6857e15b",
   "metadata": {},
   "source": [
    "Our dataset has population data of males and females from different regions. A balanced dataset is very important for our predictive analysis. Let's check how balanced the dataset is."
   ]
  },
  {
   "cell_type": "code",
   "execution_count": 12,
   "id": "5e02c24e",
   "metadata": {},
   "outputs": [
    {
     "data": {
      "text/plain": [
       "array(['southwest', 'southeast', 'northwest', 'northeast'], dtype=object)"
      ]
     },
     "execution_count": 12,
     "metadata": {},
     "output_type": "execute_result"
    }
   ],
   "source": [
    "# show the available regions\n",
    "medical_data_updated['region'].unique()"
   ]
  },
  {
   "cell_type": "code",
   "execution_count": 13,
   "id": "05da620e",
   "metadata": {},
   "outputs": [
    {
     "data": {
      "text/plain": [
       "(662, 7)"
      ]
     },
     "execution_count": 13,
     "metadata": {},
     "output_type": "execute_result"
    }
   ],
   "source": [
    "# check the samples of females\n",
    "medical_data_updated.loc[medical_data_updated['sex'] == 'female'].shape"
   ]
  },
  {
   "cell_type": "code",
   "execution_count": 14,
   "id": "8ce419ea",
   "metadata": {},
   "outputs": [
    {
     "data": {
      "text/plain": [
       "(675, 7)"
      ]
     },
     "execution_count": 14,
     "metadata": {},
     "output_type": "execute_result"
    }
   ],
   "source": [
    "# check the samples of male population\n",
    "medical_data_updated.loc[medical_data_updated['sex'] == 'male'].shape"
   ]
  },
  {
   "cell_type": "code",
   "execution_count": 15,
   "id": "8ddddd32",
   "metadata": {},
   "outputs": [
    {
     "data": {
      "text/plain": [
       "(325, 7)"
      ]
     },
     "execution_count": 15,
     "metadata": {},
     "output_type": "execute_result"
    }
   ],
   "source": [
    "# check the population from the southwest\n",
    "medical_data_updated.loc[medical_data_updated['region'] == 'southwest'].shape"
   ]
  },
  {
   "cell_type": "code",
   "execution_count": 16,
   "id": "01457914",
   "metadata": {},
   "outputs": [
    {
     "data": {
      "text/plain": [
       "(364, 7)"
      ]
     },
     "execution_count": 16,
     "metadata": {},
     "output_type": "execute_result"
    }
   ],
   "source": [
    "# check the population from the southeast\n",
    "medical_data_updated.loc[medical_data_updated['region'] == 'southeast'].shape"
   ]
  },
  {
   "cell_type": "code",
   "execution_count": 17,
   "id": "0ffcd63d",
   "metadata": {},
   "outputs": [
    {
     "data": {
      "text/plain": [
       "(324, 7)"
      ]
     },
     "execution_count": 17,
     "metadata": {},
     "output_type": "execute_result"
    }
   ],
   "source": [
    "# check the population from the northwest\n",
    "medical_data_updated.loc[medical_data_updated['region'] == 'northwest'].shape"
   ]
  },
  {
   "cell_type": "code",
   "execution_count": 18,
   "id": "a4d3e574",
   "metadata": {},
   "outputs": [
    {
     "data": {
      "text/plain": [
       "(324, 7)"
      ]
     },
     "execution_count": 18,
     "metadata": {},
     "output_type": "execute_result"
    }
   ],
   "source": [
    "# check the population from the northeast\n",
    "medical_data_updated.loc[medical_data_updated['region'] == 'northeast'].shape"
   ]
  },
  {
   "cell_type": "markdown",
   "id": "40aa461e",
   "metadata": {},
   "source": [
    "The above numbers show that the dataset is well balanced, let's draw simple bar charts to visualise the dataset."
   ]
  },
  {
   "cell_type": "code",
   "execution_count": 19,
   "id": "46757c27",
   "metadata": {},
   "outputs": [],
   "source": [
    "#3 import seaborn and matplotlib\n",
    "import seaborn as sns\n",
    "import matplotlib.pyplot as plt"
   ]
  },
  {
   "cell_type": "code",
   "execution_count": 20,
   "id": "4a7b6f8a",
   "metadata": {},
   "outputs": [
    {
     "data": {
      "text/plain": [
       "<seaborn.axisgrid.FacetGrid at 0x285e15dc0d0>"
      ]
     },
     "execution_count": 20,
     "metadata": {},
     "output_type": "execute_result"
    },
    {
     "data": {
      "image/png": "[encoded data removed]",
      "text/plain": [
       "<Figure size 360x360 with 1 Axes>"
      ]
     },
     "metadata": {
      "needs_background": "light"
     },
     "output_type": "display_data"
    }
   ],
   "source": [
    "# plot the gender based population data\n",
    "sns.catplot(x='sex', kind='count', data=medical_data_updated)"
   ]
  },
  {
   "cell_type": "code",
   "execution_count": 21,
   "id": "ff792bfe",
   "metadata": {},
   "outputs": [
    {
     "data": {
      "text/plain": [
       "<seaborn.axisgrid.FacetGrid at 0x285e15e9400>"
      ]
     },
     "execution_count": 21,
     "metadata": {},
     "output_type": "execute_result"
    },
    {
     "data": {
      "image/png": "[encoded data removed]",
      "text/plain": [
       "<Figure size 500x500 with 1 Axes>"
      ]
     },
     "metadata": {},
     "output_type": "display_data"
    }
   ],
   "source": [
    "# plot region based samples\n",
    "sns.catplot(x='region', kind='count', data=medical_data_updated)"
   ]
  },
  {
   "cell_type": "code",
   "execution_count": 22,
   "id": "728b1221",
   "metadata": {},
   "outputs": [
    {
     "data": {
      "text/plain": [
       "<seaborn.axisgrid.FacetGrid at 0x28584a6b340>"
      ]
     },
     "execution_count": 22,
     "metadata": {},
     "output_type": "execute_result"
    },
    {
     "data": {
      "image/png": "[encoded data removed]",
      "text/plain": [
       "<Figure size 500x500 with 1 Axes>"
      ]
     },
     "metadata": {},
     "output_type": "display_data"
    }
   ],
   "source": [
    "# plot smokers and non smokers\n",
    "sns.catplot(x='smoker', kind='count', data=medical_data_updated)"
   ]
  },
  {
   "cell_type": "markdown",
   "id": "e92dbb9c",
   "metadata": {},
   "source": [
    "The bar charts show that the gender and region-based data samples are well balanced. And the smoker's data samples are the reflection of the reality in many groups of people."
   ]
  },
  {
   "cell_type": "markdown",
   "id": "171ed749",
   "metadata": {},
   "source": [
    "## 4. Measure of success and evaluation"
   ]
  },
  {
   "cell_type": "markdown",
   "id": "9ffa85a5",
   "metadata": {},
   "source": [
    "### 4.1 MSE and MAE\n",
    "\n",
    "This project is dealing with a regression problem, and regression uses a different loss function and evaluation metrics. The mean squared error (MSE) is the common regression loss function. It is the average of the square of errors (the difference between the predicted and actual target). The MSE will be always a positive value. \n",
    "\n",
    "The mean average error (MAE) is used as the evaluation metrics to measure the quality of the deep learning model. It is the mean of the absolute difference between the actual and predicted values. Like the MSE, the MAE will be always a positive value.\n",
    "\n",
    "### 4.2 Hold-out validation\n",
    "\n",
    "We split the dataset into training, validation and test set of 80%, 10%, and 10% respectively. And use 10% of the data for validating the model after training. The validation loss and metrics (MAE) will be helpful to identify the balance between underfitting and overfitting. This technique is vulnerable to statistical fluctuations if the dataset is small.\n",
    "\n",
    "### 4.3 K-Fold validation\n",
    "\n",
    "The K-Fold validation is ideal for small datasets. It splits the training data into K equal folds, instantiates the model and trains on the remaining folds other than the validation fold. This process continues until every fold becomes a validation fold. Our dataset only got 1337 samples, it is not a very small dataset, still, we can use k-fold validation to validate the performance of our deep learning model. "
   ]
  },
  {
   "cell_type": "markdown",
   "id": "a3de5ffe",
   "metadata": {},
   "source": [
    "## 5. Methodology"
   ]
  },
  {
   "cell_type": "markdown",
   "id": "3a5afcd3",
   "metadata": {},
   "source": [
    "### 5.1. Prepare the data\n",
    "\n",
    "The 'sex', 'smoker', and 'region' columns in the dataset contain categorical data. We need numerical input (tensor) for our deep learning model. We use python DataFrame's get_dummies() method to convert categorical data to indicator variables (dummy codes)."
   ]
  },
  {
   "cell_type": "code",
   "execution_count": 23,
   "id": "f48b41d9",
   "metadata": {},
   "outputs": [
    {
     "data": {
      "text/html": [
       "<div>\n",
       "<style scoped>\n",
       "    .dataframe tbody tr th:only-of-type {\n",
       "        vertical-align: middle;\n",
       "    }\n",
       "\n",
       "    .dataframe tbody tr th {\n",
       "        vertical-align: top;\n",
       "    }\n",
       "\n",
       "    .dataframe thead th {\n",
       "        text-align: right;\n",
       "    }\n",
       "</style>\n",
       "<table border=\"1\" class=\"dataframe\">\n",
       "  <thead>\n",
       "    <tr style=\"text-align: right;\">\n",
       "      <th></th>\n",
       "      <th>age</th>\n",
       "      <th>bmi</th>\n",
       "      <th>children</th>\n",
       "      <th>charges</th>\n",
       "      <th>sex_female</th>\n",
       "      <th>sex_male</th>\n",
       "      <th>smoker_no</th>\n",
       "      <th>smoker_yes</th>\n",
       "      <th>region_northeast</th>\n",
       "      <th>region_northwest</th>\n",
       "      <th>region_southeast</th>\n",
       "      <th>region_southwest</th>\n",
       "    </tr>\n",
       "  </thead>\n",
       "  <tbody>\n",
       "    <tr>\n",
       "      <th>0</th>\n",
       "      <td>19</td>\n",
       "      <td>27.900</td>\n",
       "      <td>0</td>\n",
       "      <td>16884.92400</td>\n",
       "      <td>1</td>\n",
       "      <td>0</td>\n",
       "      <td>0</td>\n",
       "      <td>1</td>\n",
       "      <td>0</td>\n",
       "      <td>0</td>\n",
       "      <td>0</td>\n",
       "      <td>1</td>\n",
       "    </tr>\n",
       "    <tr>\n",
       "      <th>1</th>\n",
       "      <td>18</td>\n",
       "      <td>33.770</td>\n",
       "      <td>1</td>\n",
       "      <td>1725.55230</td>\n",
       "      <td>0</td>\n",
       "      <td>1</td>\n",
       "      <td>1</td>\n",
       "      <td>0</td>\n",
       "      <td>0</td>\n",
       "      <td>0</td>\n",
       "      <td>1</td>\n",
       "      <td>0</td>\n",
       "    </tr>\n",
       "    <tr>\n",
       "      <th>2</th>\n",
       "      <td>28</td>\n",
       "      <td>33.000</td>\n",
       "      <td>3</td>\n",
       "      <td>4449.46200</td>\n",
       "      <td>0</td>\n",
       "      <td>1</td>\n",
       "      <td>1</td>\n",
       "      <td>0</td>\n",
       "      <td>0</td>\n",
       "      <td>0</td>\n",
       "      <td>1</td>\n",
       "      <td>0</td>\n",
       "    </tr>\n",
       "    <tr>\n",
       "      <th>3</th>\n",
       "      <td>33</td>\n",
       "      <td>22.705</td>\n",
       "      <td>0</td>\n",
       "      <td>21984.47061</td>\n",
       "      <td>0</td>\n",
       "      <td>1</td>\n",
       "      <td>1</td>\n",
       "      <td>0</td>\n",
       "      <td>0</td>\n",
       "      <td>1</td>\n",
       "      <td>0</td>\n",
       "      <td>0</td>\n",
       "    </tr>\n",
       "    <tr>\n",
       "      <th>4</th>\n",
       "      <td>32</td>\n",
       "      <td>28.880</td>\n",
       "      <td>0</td>\n",
       "      <td>3866.85520</td>\n",
       "      <td>0</td>\n",
       "      <td>1</td>\n",
       "      <td>1</td>\n",
       "      <td>0</td>\n",
       "      <td>0</td>\n",
       "      <td>1</td>\n",
       "      <td>0</td>\n",
       "      <td>0</td>\n",
       "    </tr>\n",
       "  </tbody>\n",
       "</table>\n",
       "</div>"
      ],
      "text/plain": [
       "   age     bmi  children      charges  sex_female  sex_male  smoker_no  \\\n",
       "0   19  27.900         0  16884.92400           1         0          0   \n",
       "1   18  33.770         1   1725.55230           0         1          1   \n",
       "2   28  33.000         3   4449.46200           0         1          1   \n",
       "3   33  22.705         0  21984.47061           0         1          1   \n",
       "4   32  28.880         0   3866.85520           0         1          1   \n",
       "\n",
       "   smoker_yes  region_northeast  region_northwest  region_southeast  \\\n",
       "0           1                 0                 0                 0   \n",
       "1           0                 0                 0                 1   \n",
       "2           0                 0                 0                 1   \n",
       "3           0                 0                 1                 0   \n",
       "4           0                 0                 1                 0   \n",
       "\n",
       "   region_southwest  \n",
       "0                 1  \n",
       "1                 0  \n",
       "2                 0  \n",
       "3                 0  \n",
       "4                 0  "
      ]
     },
     "execution_count": 23,
     "metadata": {},
     "output_type": "execute_result"
    }
   ],
   "source": [
    "# categorical to numeric mapping\n",
    "pd.get_dummies(medical_data_updated, columns=['sex', 'smoker', 'region']).head()"
   ]
  },
  {
   "cell_type": "markdown",
   "id": "6a1fb51c",
   "metadata": {},
   "source": [
    "Now we can see that new columns are added to the dataset with numerical values (0s and 1s)."
   ]
  },
  {
   "cell_type": "code",
   "execution_count": 24,
   "id": "5c5b247d",
   "metadata": {},
   "outputs": [],
   "source": [
    "# save the new dataframe\n",
    "df_med_data = pd.get_dummies(medical_data_updated, columns=['sex', 'smoker', 'region'])"
   ]
  },
  {
   "cell_type": "code",
   "execution_count": 25,
   "id": "1001caeb",
   "metadata": {},
   "outputs": [
    {
     "data": {
      "text/html": [
       "<div>\n",
       "<style scoped>\n",
       "    .dataframe tbody tr th:only-of-type {\n",
       "        vertical-align: middle;\n",
       "    }\n",
       "\n",
       "    .dataframe tbody tr th {\n",
       "        vertical-align: top;\n",
       "    }\n",
       "\n",
       "    .dataframe thead th {\n",
       "        text-align: right;\n",
       "    }\n",
       "</style>\n",
       "<table border=\"1\" class=\"dataframe\">\n",
       "  <thead>\n",
       "    <tr style=\"text-align: right;\">\n",
       "      <th></th>\n",
       "      <th>age</th>\n",
       "      <th>bmi</th>\n",
       "      <th>children</th>\n",
       "      <th>charges</th>\n",
       "      <th>sex_female</th>\n",
       "      <th>sex_male</th>\n",
       "      <th>smoker_no</th>\n",
       "      <th>smoker_yes</th>\n",
       "      <th>region_northeast</th>\n",
       "      <th>region_northwest</th>\n",
       "      <th>region_southeast</th>\n",
       "      <th>region_southwest</th>\n",
       "    </tr>\n",
       "  </thead>\n",
       "  <tbody>\n",
       "    <tr>\n",
       "      <th>0</th>\n",
       "      <td>19</td>\n",
       "      <td>27.900</td>\n",
       "      <td>0</td>\n",
       "      <td>16884.92400</td>\n",
       "      <td>1</td>\n",
       "      <td>0</td>\n",
       "      <td>0</td>\n",
       "      <td>1</td>\n",
       "      <td>0</td>\n",
       "      <td>0</td>\n",
       "      <td>0</td>\n",
       "      <td>1</td>\n",
       "    </tr>\n",
       "    <tr>\n",
       "      <th>1</th>\n",
       "      <td>18</td>\n",
       "      <td>33.770</td>\n",
       "      <td>1</td>\n",
       "      <td>1725.55230</td>\n",
       "      <td>0</td>\n",
       "      <td>1</td>\n",
       "      <td>1</td>\n",
       "      <td>0</td>\n",
       "      <td>0</td>\n",
       "      <td>0</td>\n",
       "      <td>1</td>\n",
       "      <td>0</td>\n",
       "    </tr>\n",
       "    <tr>\n",
       "      <th>2</th>\n",
       "      <td>28</td>\n",
       "      <td>33.000</td>\n",
       "      <td>3</td>\n",
       "      <td>4449.46200</td>\n",
       "      <td>0</td>\n",
       "      <td>1</td>\n",
       "      <td>1</td>\n",
       "      <td>0</td>\n",
       "      <td>0</td>\n",
       "      <td>0</td>\n",
       "      <td>1</td>\n",
       "      <td>0</td>\n",
       "    </tr>\n",
       "    <tr>\n",
       "      <th>3</th>\n",
       "      <td>33</td>\n",
       "      <td>22.705</td>\n",
       "      <td>0</td>\n",
       "      <td>21984.47061</td>\n",
       "      <td>0</td>\n",
       "      <td>1</td>\n",
       "      <td>1</td>\n",
       "      <td>0</td>\n",
       "      <td>0</td>\n",
       "      <td>1</td>\n",
       "      <td>0</td>\n",
       "      <td>0</td>\n",
       "    </tr>\n",
       "    <tr>\n",
       "      <th>4</th>\n",
       "      <td>32</td>\n",
       "      <td>28.880</td>\n",
       "      <td>0</td>\n",
       "      <td>3866.85520</td>\n",
       "      <td>0</td>\n",
       "      <td>1</td>\n",
       "      <td>1</td>\n",
       "      <td>0</td>\n",
       "      <td>0</td>\n",
       "      <td>1</td>\n",
       "      <td>0</td>\n",
       "      <td>0</td>\n",
       "    </tr>\n",
       "  </tbody>\n",
       "</table>\n",
       "</div>"
      ],
      "text/plain": [
       "   age     bmi  children      charges  sex_female  sex_male  smoker_no  \\\n",
       "0   19  27.900         0  16884.92400           1         0          0   \n",
       "1   18  33.770         1   1725.55230           0         1          1   \n",
       "2   28  33.000         3   4449.46200           0         1          1   \n",
       "3   33  22.705         0  21984.47061           0         1          1   \n",
       "4   32  28.880         0   3866.85520           0         1          1   \n",
       "\n",
       "   smoker_yes  region_northeast  region_northwest  region_southeast  \\\n",
       "0           1                 0                 0                 0   \n",
       "1           0                 0                 0                 1   \n",
       "2           0                 0                 0                 1   \n",
       "3           0                 0                 1                 0   \n",
       "4           0                 0                 1                 0   \n",
       "\n",
       "   region_southwest  \n",
       "0                 1  \n",
       "1                 0  \n",
       "2                 0  \n",
       "3                 0  \n",
       "4                 0  "
      ]
     },
     "execution_count": 25,
     "metadata": {},
     "output_type": "execute_result"
    }
   ],
   "source": [
    "# check the new dataframe\n",
    "df_med_data.head()"
   ]
  },
  {
   "cell_type": "code",
   "execution_count": 26,
   "id": "5da0c019",
   "metadata": {},
   "outputs": [],
   "source": [
    "# import numpy scikit learn libraries\n",
    "import numpy as np\n",
    "import sklearn\n",
    "from sklearn.preprocessing import StandardScaler"
   ]
  },
  {
   "cell_type": "markdown",
   "id": "4010044b",
   "metadata": {},
   "source": [
    "### 5.2 Normalisation\n",
    "\n",
    "We need the dataset values in the same range to make the deep learning model work better. Inhomogeneity can trigger larger gradient updates and models biased towards larger numerical features. We normalise the dataset using scikit learn's StandardScaler. The StandardScaler standardize the dataset and normally distribute the data with zero mean and unit variance.\n",
    "\n",
    "**The l1 and l2 regularizers assume that the input data is normalised with zero mean and unit variance. This step will help us to add regularizers to our deep learning model in the later stage.**"
   ]
  },
  {
   "cell_type": "code",
   "execution_count": 28,
   "id": "6236df40",
   "metadata": {},
   "outputs": [],
   "source": [
    "# normalise [-1,1] mean 0, std 1 - sandard scalar\n",
    "scale = StandardScaler()\n",
    "# scale the data\n",
    "scale_model = scale.fit(df_med_data)\n",
    "# store the transformed data\n",
    "array_med_scaled = scale_model.transform(df_med_data)"
   ]
  },
  {
   "cell_type": "code",
   "execution_count": 29,
   "id": "c5aae5a1",
   "metadata": {},
   "outputs": [
    {
     "data": {
      "text/plain": [
       "array([[-1.44041773, -0.45315959, -0.90923416,  0.2978567 ,  1.00977099,\n",
       "        -1.00977099, -1.96966039,  1.96966039, -0.5655458 , -0.5655458 ,\n",
       "        -0.61163774,  1.76460935],\n",
       "       [-1.51164747,  0.50942165, -0.07944162, -0.9543806 , -0.99032355,\n",
       "         0.99032355,  0.50770174, -0.50770174, -0.5655458 , -0.5655458 ,\n",
       "         1.63495472, -0.56669767]])"
      ]
     },
     "execution_count": 29,
     "metadata": {},
     "output_type": "execute_result"
    }
   ],
   "source": [
    "# check the output array\n",
    "array_med_scaled[:2]"
   ]
  },
  {
   "cell_type": "code",
   "execution_count": 30,
   "id": "80cb210a",
   "metadata": {},
   "outputs": [
    {
     "data": {
      "text/plain": [
       "(1337, 12)"
      ]
     },
     "execution_count": 30,
     "metadata": {},
     "output_type": "execute_result"
    }
   ],
   "source": [
    "# check the shape and confirm no data is lost\n",
    "array_med_scaled.shape"
   ]
  },
  {
   "cell_type": "code",
   "execution_count": 31,
   "id": "c720631f",
   "metadata": {},
   "outputs": [],
   "source": [
    "# convert the array back to a dataframe\n",
    "df_med_scaled = pd.DataFrame(array_med_scaled, columns=df_med_data.columns)"
   ]
  },
  {
   "cell_type": "code",
   "execution_count": 32,
   "id": "58aa5cb3",
   "metadata": {},
   "outputs": [
    {
     "data": {
      "text/html": [
       "<div>\n",
       "<style scoped>\n",
       "    .dataframe tbody tr th:only-of-type {\n",
       "        vertical-align: middle;\n",
       "    }\n",
       "\n",
       "    .dataframe tbody tr th {\n",
       "        vertical-align: top;\n",
       "    }\n",
       "\n",
       "    .dataframe thead th {\n",
       "        text-align: right;\n",
       "    }\n",
       "</style>\n",
       "<table border=\"1\" class=\"dataframe\">\n",
       "  <thead>\n",
       "    <tr style=\"text-align: right;\">\n",
       "      <th></th>\n",
       "      <th>age</th>\n",
       "      <th>bmi</th>\n",
       "      <th>children</th>\n",
       "      <th>charges</th>\n",
       "      <th>sex_female</th>\n",
       "      <th>sex_male</th>\n",
       "      <th>smoker_no</th>\n",
       "      <th>smoker_yes</th>\n",
       "      <th>region_northeast</th>\n",
       "      <th>region_northwest</th>\n",
       "      <th>region_southeast</th>\n",
       "      <th>region_southwest</th>\n",
       "    </tr>\n",
       "  </thead>\n",
       "  <tbody>\n",
       "    <tr>\n",
       "      <th>0</th>\n",
       "      <td>-1.440418</td>\n",
       "      <td>-0.453160</td>\n",
       "      <td>-0.909234</td>\n",
       "      <td>0.297857</td>\n",
       "      <td>1.009771</td>\n",
       "      <td>-1.009771</td>\n",
       "      <td>-1.969660</td>\n",
       "      <td>1.969660</td>\n",
       "      <td>-0.565546</td>\n",
       "      <td>-0.565546</td>\n",
       "      <td>-0.611638</td>\n",
       "      <td>1.764609</td>\n",
       "    </tr>\n",
       "    <tr>\n",
       "      <th>1</th>\n",
       "      <td>-1.511647</td>\n",
       "      <td>0.509422</td>\n",
       "      <td>-0.079442</td>\n",
       "      <td>-0.954381</td>\n",
       "      <td>-0.990324</td>\n",
       "      <td>0.990324</td>\n",
       "      <td>0.507702</td>\n",
       "      <td>-0.507702</td>\n",
       "      <td>-0.565546</td>\n",
       "      <td>-0.565546</td>\n",
       "      <td>1.634955</td>\n",
       "      <td>-0.566698</td>\n",
       "    </tr>\n",
       "    <tr>\n",
       "      <th>2</th>\n",
       "      <td>-0.799350</td>\n",
       "      <td>0.383155</td>\n",
       "      <td>1.580143</td>\n",
       "      <td>-0.729373</td>\n",
       "      <td>-0.990324</td>\n",
       "      <td>0.990324</td>\n",
       "      <td>0.507702</td>\n",
       "      <td>-0.507702</td>\n",
       "      <td>-0.565546</td>\n",
       "      <td>-0.565546</td>\n",
       "      <td>1.634955</td>\n",
       "      <td>-0.566698</td>\n",
       "    </tr>\n",
       "    <tr>\n",
       "      <th>3</th>\n",
       "      <td>-0.443201</td>\n",
       "      <td>-1.305052</td>\n",
       "      <td>-0.909234</td>\n",
       "      <td>0.719104</td>\n",
       "      <td>-0.990324</td>\n",
       "      <td>0.990324</td>\n",
       "      <td>0.507702</td>\n",
       "      <td>-0.507702</td>\n",
       "      <td>-0.565546</td>\n",
       "      <td>1.768203</td>\n",
       "      <td>-0.611638</td>\n",
       "      <td>-0.566698</td>\n",
       "    </tr>\n",
       "    <tr>\n",
       "      <th>4</th>\n",
       "      <td>-0.514431</td>\n",
       "      <td>-0.292456</td>\n",
       "      <td>-0.909234</td>\n",
       "      <td>-0.777499</td>\n",
       "      <td>-0.990324</td>\n",
       "      <td>0.990324</td>\n",
       "      <td>0.507702</td>\n",
       "      <td>-0.507702</td>\n",
       "      <td>-0.565546</td>\n",
       "      <td>1.768203</td>\n",
       "      <td>-0.611638</td>\n",
       "      <td>-0.566698</td>\n",
       "    </tr>\n",
       "  </tbody>\n",
       "</table>\n",
       "</div>"
      ],
      "text/plain": [
       "        age       bmi  children   charges  sex_female  sex_male  smoker_no  \\\n",
       "0 -1.440418 -0.453160 -0.909234  0.297857    1.009771 -1.009771  -1.969660   \n",
       "1 -1.511647  0.509422 -0.079442 -0.954381   -0.990324  0.990324   0.507702   \n",
       "2 -0.799350  0.383155  1.580143 -0.729373   -0.990324  0.990324   0.507702   \n",
       "3 -0.443201 -1.305052 -0.909234  0.719104   -0.990324  0.990324   0.507702   \n",
       "4 -0.514431 -0.292456 -0.909234 -0.777499   -0.990324  0.990324   0.507702   \n",
       "\n",
       "   smoker_yes  region_northeast  region_northwest  region_southeast  \\\n",
       "0    1.969660         -0.565546         -0.565546         -0.611638   \n",
       "1   -0.507702         -0.565546         -0.565546          1.634955   \n",
       "2   -0.507702         -0.565546         -0.565546          1.634955   \n",
       "3   -0.507702         -0.565546          1.768203         -0.611638   \n",
       "4   -0.507702         -0.565546          1.768203         -0.611638   \n",
       "\n",
       "   region_southwest  \n",
       "0          1.764609  \n",
       "1         -0.566698  \n",
       "2         -0.566698  \n",
       "3         -0.566698  \n",
       "4         -0.566698  "
      ]
     },
     "execution_count": 32,
     "metadata": {},
     "output_type": "execute_result"
    }
   ],
   "source": [
    "# check the normalized dataframe\n",
    "df_med_scaled.head()"
   ]
  },
  {
   "cell_type": "code",
   "execution_count": 33,
   "id": "59a37d86",
   "metadata": {},
   "outputs": [
    {
     "data": {
      "text/plain": [
       "(1337, 12)"
      ]
     },
     "execution_count": 33,
     "metadata": {},
     "output_type": "execute_result"
    }
   ],
   "source": [
    "df_med_scaled.shape"
   ]
  },
  {
   "cell_type": "markdown",
   "id": "01288d2f",
   "metadata": {},
   "source": [
    "We have successfully normalised the data. The next step is to split the DataFrame to train and test sets."
   ]
  },
  {
   "cell_type": "markdown",
   "id": "0c8361b6",
   "metadata": {},
   "source": [
    "### 5.3 Train test split\n",
    "\n",
    "Let's use the scikit learn's train_test_split method to train and test subsets. Here we set a random_state parameter to reproduce the same result for later runs."
   ]
  },
  {
   "cell_type": "code",
   "execution_count": 34,
   "id": "ceecf96a",
   "metadata": {},
   "outputs": [],
   "source": [
    "# import the library\n",
    "from sklearn.model_selection import train_test_split"
   ]
  },
  {
   "cell_type": "markdown",
   "id": "80b9a188",
   "metadata": {},
   "source": [
    "Let's drop the target value column 'charges' from the dataset and keep it in a series named 'target'."
   ]
  },
  {
   "cell_type": "code",
   "execution_count": 35,
   "id": "726ed573",
   "metadata": {},
   "outputs": [
    {
     "data": {
      "text/html": [
       "<div>\n",
       "<style scoped>\n",
       "    .dataframe tbody tr th:only-of-type {\n",
       "        vertical-align: middle;\n",
       "    }\n",
       "\n",
       "    .dataframe tbody tr th {\n",
       "        vertical-align: top;\n",
       "    }\n",
       "\n",
       "    .dataframe thead th {\n",
       "        text-align: right;\n",
       "    }\n",
       "</style>\n",
       "<table border=\"1\" class=\"dataframe\">\n",
       "  <thead>\n",
       "    <tr style=\"text-align: right;\">\n",
       "      <th></th>\n",
       "      <th>age</th>\n",
       "      <th>bmi</th>\n",
       "      <th>children</th>\n",
       "      <th>sex_female</th>\n",
       "      <th>sex_male</th>\n",
       "      <th>smoker_no</th>\n",
       "      <th>smoker_yes</th>\n",
       "      <th>region_northeast</th>\n",
       "      <th>region_northwest</th>\n",
       "      <th>region_southeast</th>\n",
       "      <th>region_southwest</th>\n",
       "    </tr>\n",
       "  </thead>\n",
       "  <tbody>\n",
       "    <tr>\n",
       "      <th>0</th>\n",
       "      <td>-1.440418</td>\n",
       "      <td>-0.453160</td>\n",
       "      <td>-0.909234</td>\n",
       "      <td>1.009771</td>\n",
       "      <td>-1.009771</td>\n",
       "      <td>-1.969660</td>\n",
       "      <td>1.969660</td>\n",
       "      <td>-0.565546</td>\n",
       "      <td>-0.565546</td>\n",
       "      <td>-0.611638</td>\n",
       "      <td>1.764609</td>\n",
       "    </tr>\n",
       "    <tr>\n",
       "      <th>1</th>\n",
       "      <td>-1.511647</td>\n",
       "      <td>0.509422</td>\n",
       "      <td>-0.079442</td>\n",
       "      <td>-0.990324</td>\n",
       "      <td>0.990324</td>\n",
       "      <td>0.507702</td>\n",
       "      <td>-0.507702</td>\n",
       "      <td>-0.565546</td>\n",
       "      <td>-0.565546</td>\n",
       "      <td>1.634955</td>\n",
       "      <td>-0.566698</td>\n",
       "    </tr>\n",
       "    <tr>\n",
       "      <th>2</th>\n",
       "      <td>-0.799350</td>\n",
       "      <td>0.383155</td>\n",
       "      <td>1.580143</td>\n",
       "      <td>-0.990324</td>\n",
       "      <td>0.990324</td>\n",
       "      <td>0.507702</td>\n",
       "      <td>-0.507702</td>\n",
       "      <td>-0.565546</td>\n",
       "      <td>-0.565546</td>\n",
       "      <td>1.634955</td>\n",
       "      <td>-0.566698</td>\n",
       "    </tr>\n",
       "    <tr>\n",
       "      <th>3</th>\n",
       "      <td>-0.443201</td>\n",
       "      <td>-1.305052</td>\n",
       "      <td>-0.909234</td>\n",
       "      <td>-0.990324</td>\n",
       "      <td>0.990324</td>\n",
       "      <td>0.507702</td>\n",
       "      <td>-0.507702</td>\n",
       "      <td>-0.565546</td>\n",
       "      <td>1.768203</td>\n",
       "      <td>-0.611638</td>\n",
       "      <td>-0.566698</td>\n",
       "    </tr>\n",
       "    <tr>\n",
       "      <th>4</th>\n",
       "      <td>-0.514431</td>\n",
       "      <td>-0.292456</td>\n",
       "      <td>-0.909234</td>\n",
       "      <td>-0.990324</td>\n",
       "      <td>0.990324</td>\n",
       "      <td>0.507702</td>\n",
       "      <td>-0.507702</td>\n",
       "      <td>-0.565546</td>\n",
       "      <td>1.768203</td>\n",
       "      <td>-0.611638</td>\n",
       "      <td>-0.566698</td>\n",
       "    </tr>\n",
       "  </tbody>\n",
       "</table>\n",
       "</div>"
      ],
      "text/plain": [
       "        age       bmi  children  sex_female  sex_male  smoker_no  smoker_yes  \\\n",
       "0 -1.440418 -0.453160 -0.909234    1.009771 -1.009771  -1.969660    1.969660   \n",
       "1 -1.511647  0.509422 -0.079442   -0.990324  0.990324   0.507702   -0.507702   \n",
       "2 -0.799350  0.383155  1.580143   -0.990324  0.990324   0.507702   -0.507702   \n",
       "3 -0.443201 -1.305052 -0.909234   -0.990324  0.990324   0.507702   -0.507702   \n",
       "4 -0.514431 -0.292456 -0.909234   -0.990324  0.990324   0.507702   -0.507702   \n",
       "\n",
       "   region_northeast  region_northwest  region_southeast  region_southwest  \n",
       "0         -0.565546         -0.565546         -0.611638          1.764609  \n",
       "1         -0.565546         -0.565546          1.634955         -0.566698  \n",
       "2         -0.565546         -0.565546          1.634955         -0.566698  \n",
       "3         -0.565546          1.768203         -0.611638         -0.566698  \n",
       "4         -0.565546          1.768203         -0.611638         -0.566698  "
      ]
     },
     "execution_count": 35,
     "metadata": {},
     "output_type": "execute_result"
    }
   ],
   "source": [
    "# drop the target column\n",
    "data = df_med_scaled.drop('charges', axis=1)\n",
    "data.head()"
   ]
  },
  {
   "cell_type": "code",
   "execution_count": 36,
   "id": "6236e9e0",
   "metadata": {},
   "outputs": [
    {
     "data": {
      "text/plain": [
       "0    0.297857\n",
       "1   -0.954381\n",
       "2   -0.729373\n",
       "3    0.719104\n",
       "4   -0.777499\n",
       "Name: charges, dtype: float64"
      ]
     },
     "execution_count": 36,
     "metadata": {},
     "output_type": "execute_result"
    }
   ],
   "source": [
    "# store the target in a series \n",
    "target = df_med_scaled.charges\n",
    "target.head()"
   ]
  },
  {
   "cell_type": "code",
   "execution_count": 37,
   "id": "371e031d",
   "metadata": {},
   "outputs": [],
   "source": [
    "# perform the train test split with test size = 10% and random state value (to reproduce the result)\n",
    "train_data,test_data,train_target,test_target = train_test_split(data,target,test_size=0.10,random_state=42)"
   ]
  },
  {
   "cell_type": "code",
   "execution_count": 38,
   "id": "c3362461",
   "metadata": {},
   "outputs": [
    {
     "data": {
      "text/plain": [
       "(1203, 11)"
      ]
     },
     "execution_count": 38,
     "metadata": {},
     "output_type": "execute_result"
    }
   ],
   "source": [
    "# check the shape of he training data\n",
    "train_data.shape"
   ]
  },
  {
   "cell_type": "markdown",
   "id": "8261f0aa",
   "metadata": {},
   "source": [
    "### 5.4 Common sense baseline"
   ]
  },
  {
   "cell_type": "markdown",
   "id": "f93b8324",
   "metadata": {},
   "source": [
    "A common sense baseline is all about thinking about the dataset and the hypothesis and developing some intuition about the results. Our literature research showed that an individual's age, sex, disease prevalence etc, can affect the insurance cost [2, JAMA, 2017].\n",
    "\n",
    "As it is a regression deep learning model [8, Tensorflow, Keras, Regression], we use the mean absolute error as the evaluation metrics to analyse the performance of the model. **I consider an MAE value close to but less than one as my common sense baseline.**"
   ]
  },
  {
   "cell_type": "markdown",
   "id": "2fb4adef",
   "metadata": {},
   "source": [
    "### 5.5. Baseline model\n",
    "\n",
    "The baseline model for this project is the **simplest deep learning regression model we can make with the optimizer - 'rmsprop' (default learning rate 0.001), loss - mean squared error, metrics - mean average error, last layer activation: none**. We expect it to beat the common sense baseline. As it is a regression model we choose a linear activation function - ReLU. We will use it as a reference for other models we create and try to beat the baseline performance. \n",
    "\n",
    "We create an input layer, a dense layer with 16 units, and an output layer with 1 unit. We use python's tensorflow and keras libraries to build the neural networks."
   ]
  },
  {
   "cell_type": "code",
   "execution_count": 39,
   "id": "d1053f24",
   "metadata": {},
   "outputs": [],
   "source": [
    "# import keras model and layers\n",
    "from tensorflow.keras import models, layers\n",
    "# import tensorflow\n",
    "import tensorflow as tf\n",
    "\n",
    "# reproduce the same result\n",
    "tf.random.set_seed(42)"
   ]
  },
  {
   "cell_type": "markdown",
   "id": "1de2a60c",
   "metadata": {},
   "source": [
    "**Split the training data to create a validation set for hold-out validation**\n",
    "\n",
    "We need a validation set to measure the performance and tune the hyperparameters of the model. We will not use the test data until we find an optimum model. The validation loss and training loss will be used to determine how well the model fits into the training data. "
   ]
  },
  {
   "cell_type": "code",
   "execution_count": 40,
   "id": "2a6ab52c",
   "metadata": {},
   "outputs": [],
   "source": [
    "# keep 10% of the data for validation\n",
    "# the validaton data and target\n",
    "val_data = train_data[:134]\n",
    "val_target = train_target[:134]\n",
    "# training data and training target\n",
    "partial_train_data = train_data[134:]\n",
    "partial_train_target = train_target[134:]"
   ]
  },
  {
   "cell_type": "markdown",
   "id": "f5188243",
   "metadata": {},
   "source": [
    "**Baseline model to beat the common sense baseline**"
   ]
  },
  {
   "cell_type": "code",
   "execution_count": 41,
   "id": "be5686f8",
   "metadata": {},
   "outputs": [],
   "source": [
    "# baseline model function\n",
    "def baseline_model():\n",
    "    # sequential model\n",
    "    model = models.Sequential()\n",
    "    # input layer with shape\n",
    "    model.add(layers.InputLayer(input_shape = (train_data.shape[1], )))\n",
    "    # dense hidden layer with 16 units\n",
    "    model.add(layers.Dense(16, activation = 'relu'))\n",
    "    # output layer - 1 unit as it is a regression model\n",
    "    model.add(layers.Dense(1))\n",
    "    # configure the model: rmsprop with default leatning rate (0.001), loss = mean squared error\n",
    "    # metrics - mean absolute error as it is a regression model\n",
    "    model.compile(optimizer = 'rmsprop', loss = 'mse', metrics = ['mae'])\n",
    "    # return the model\n",
    "    return model"
   ]
  },
  {
   "cell_type": "markdown",
   "id": "2bafa792",
   "metadata": {},
   "source": [
    "**Train the model with the input data and validate on the validation set**\n",
    "\n",
    "We use a larger batch size (512) and 20 epochs for training and validation."
   ]
  },
  {
   "cell_type": "code",
   "execution_count": 42,
   "id": "df95052d",
   "metadata": {},
   "outputs": [
    {
     "name": "stdout",
     "output_type": "stream",
     "text": [
      "Epoch 1/20\n",
      "3/3 [==============================] - 1s 162ms/step - loss: 1.6800 - mae: 1.1488 - val_loss: 1.8242 - val_mae: 1.1922\n",
      "Epoch 2/20\n",
      "3/3 [==============================] - 0s 21ms/step - loss: 1.5046 - mae: 1.0850 - val_loss: 1.6876 - val_mae: 1.1445\n",
      "Epoch 3/20\n",
      "3/3 [==============================] - 0s 19ms/step - loss: 1.3958 - mae: 1.0449 - val_loss: 1.5868 - val_mae: 1.1077\n",
      "Epoch 4/20\n",
      "3/3 [==============================] - 0s 20ms/step - loss: 1.3138 - mae: 1.0131 - val_loss: 1.5017 - val_mae: 1.0756\n",
      "Epoch 5/20\n",
      "3/3 [==============================] - 0s 18ms/step - loss: 1.2426 - mae: 0.9837 - val_loss: 1.4235 - val_mae: 1.0465\n",
      "Epoch 6/20\n",
      "3/3 [==============================] - 0s 17ms/step - loss: 1.1782 - mae: 0.9581 - val_loss: 1.3464 - val_mae: 1.0161\n",
      "Epoch 7/20\n",
      "3/3 [==============================] - 0s 17ms/step - loss: 1.1160 - mae: 0.9313 - val_loss: 1.2766 - val_mae: 0.9892\n",
      "Epoch 8/20\n",
      "3/3 [==============================] - 0s 19ms/step - loss: 1.0601 - mae: 0.9075 - val_loss: 1.2050 - val_mae: 0.9609\n",
      "Epoch 9/20\n",
      "3/3 [==============================] - 0s 18ms/step - loss: 1.0052 - mae: 0.8832 - val_loss: 1.1474 - val_mae: 0.9350\n",
      "Epoch 10/20\n",
      "3/3 [==============================] - 0s 17ms/step - loss: 0.9571 - mae: 0.8592 - val_loss: 1.0950 - val_mae: 0.9113\n",
      "Epoch 11/20\n",
      "3/3 [==============================] - 0s 24ms/step - loss: 0.9127 - mae: 0.8367 - val_loss: 1.0378 - val_mae: 0.8855\n",
      "Epoch 12/20\n",
      "3/3 [==============================] - 0s 22ms/step - loss: 0.8688 - mae: 0.8138 - val_loss: 0.9733 - val_mae: 0.8601\n",
      "Epoch 13/20\n",
      "3/3 [==============================] - 0s 18ms/step - loss: 0.8267 - mae: 0.7964 - val_loss: 0.9266 - val_mae: 0.8396\n",
      "Epoch 14/20\n",
      "3/3 [==============================] - 0s 19ms/step - loss: 0.7905 - mae: 0.7784 - val_loss: 0.8795 - val_mae: 0.8177\n",
      "Epoch 15/20\n",
      "3/3 [==============================] - 0s 19ms/step - loss: 0.7549 - mae: 0.7601 - val_loss: 0.8381 - val_mae: 0.7962\n",
      "Epoch 16/20\n",
      "3/3 [==============================] - 0s 21ms/step - loss: 0.7200 - mae: 0.7397 - val_loss: 0.7934 - val_mae: 0.7739\n",
      "Epoch 17/20\n",
      "3/3 [==============================] - 0s 28ms/step - loss: 0.6881 - mae: 0.7217 - val_loss: 0.7461 - val_mae: 0.7506\n",
      "Epoch 18/20\n",
      "3/3 [==============================] - 0s 27ms/step - loss: 0.6560 - mae: 0.7036 - val_loss: 0.7088 - val_mae: 0.7305\n",
      "Epoch 19/20\n",
      "3/3 [==============================] - 0s 27ms/step - loss: 0.6286 - mae: 0.6868 - val_loss: 0.6821 - val_mae: 0.7123\n",
      "Epoch 20/20\n",
      "3/3 [==============================] - 0s 23ms/step - loss: 0.6033 - mae: 0.6677 - val_loss: 0.6508 - val_mae: 0.6925\n"
     ]
    }
   ],
   "source": [
    "# call the baseline model function\n",
    "model_baseline = baseline_model()\n",
    "# Train the model on a larger batch size (512)\n",
    "# validation set is passed\n",
    "history_baseline = model_baseline.fit(partial_train_data, partial_train_target,\n",
    "                                      validation_data=(val_data, val_target),\n",
    "                                      epochs=20, batch_size=512)"
   ]
  },
  {
   "cell_type": "markdown",
   "id": "5c1b030b",
   "metadata": {},
   "source": [
    "Here we can see the training progress for each epoch. For the later models, we will set verbose=0 to disable the logging output and draw graphs, print out the best validation loss and MAE for better illustration.\n",
    "\n",
    "Check at which epoch we got the lowest MSE and find the corresponding MAE."
   ]
  },
  {
   "cell_type": "code",
   "execution_count": 43,
   "id": "d40ac288",
   "metadata": {},
   "outputs": [
    {
     "name": "stdout",
     "output_type": "stream",
     "text": [
      "Holdout validation\n",
      "Baseline Loss:  0.6507757306098938\n",
      "Baseline MAE:  0.6924821734428406\n"
     ]
    }
   ],
   "source": [
    "# chekc the MSE and MAE\n",
    "val_loss = history_baseline.history['val_loss']\n",
    "val_mae = history_baseline.history['val_mae']\n",
    "print(\"Holdout validation\")\n",
    "print(\"Baseline Loss: \", np.min(val_loss))\n",
    "print(\"Baseline MAE: \", val_mae[np.argmin(val_loss)])"
   ]
  },
  {
   "cell_type": "markdown",
   "id": "e15cae64",
   "metadata": {},
   "source": [
    "The common sense baseline is an MAE value close to one and our baseline mode beat the common-sense baseline with an MAE of 0.6925. This is positive towards proving our hypothesis true. Now we need to improve the model and beat the baseline.\n",
    "\n",
    "**Let's check the details of the model architecture using the summary() method. It shows the layer type, shape, and total trainable parameters.**"
   ]
  },
  {
   "cell_type": "code",
   "execution_count": 44,
   "id": "3112ca09",
   "metadata": {},
   "outputs": [
    {
     "name": "stdout",
     "output_type": "stream",
     "text": [
      "Model: \"sequential\"\n",
      "_________________________________________________________________\n",
      " Layer (type)                Output Shape              Param #   \n",
      "=================================================================\n",
      " dense (Dense)               (None, 16)                192       \n",
      "                                                                 \n",
      " dense_1 (Dense)             (None, 1)                 17        \n",
      "                                                                 \n",
      "=================================================================\n",
      "Total params: 209\n",
      "Trainable params: 209\n",
      "Non-trainable params: 0\n",
      "_________________________________________________________________\n"
     ]
    }
   ],
   "source": [
    "model_baseline.summary()"
   ]
  },
  {
   "cell_type": "markdown",
   "id": "3c26dd24",
   "metadata": {},
   "source": [
    "We are not using the k-fold validation for the baseline model. We will use both holdout and K-Fold validation for the later models to better analyse the performance of the model.\n",
    "\n",
    "**Implement the K-Fold cross-validation algorithm**"
   ]
  },
  {
   "cell_type": "code",
   "execution_count": 46,
   "id": "87c4820b",
   "metadata": {},
   "outputs": [],
   "source": [
    "# code is re-used from the boston housing prices example\n",
    "class CustomCallback(tf.keras.callbacks.Callback):\n",
    "    def on_epoch_begin(self, epoch, logs=None):\n",
    "        c = ['\\b|', '\\b/', '\\b-', '\\b\\\\'] \n",
    "        print(c[epoch % 4], end='')\n",
    "    def on_epoch_end(self, epoch, logs=None):\n",
    "        print('\\b', end='')\n",
    "\n",
    "\n",
    "# code is re used from the boston housing prices example\n",
    "def kFold(K, train_data, train_target, rg_model):\n",
    "    num_val_samples = len(train_data) // K\n",
    "    num_epoch = 500\n",
    "    val_loss_histories = []\n",
    "    mae_histories = []\n",
    "    for i in range(K):\n",
    "        print('processing fold', i)\n",
    "\n",
    "        # Prepare the validation data: data from partition i\n",
    "        a, b = i * num_val_samples, (i + 1) * num_val_samples\n",
    "        val_data = train_data[a : b]\n",
    "        val_target = train_target[a : b]\n",
    "\n",
    "        # Prepare the training data: data from all other partitions\n",
    "        partial_train_data = np.concatenate([train_data[:a], train_data[b:]], axis=0)\n",
    "        partial_train_target = np.concatenate([train_target[:a], train_target[b:]], axis=0)\n",
    "\n",
    "        # Build the Keras model (already compiled)\n",
    "        model = rg_model\n",
    "\n",
    "        # Train the model (in silent mode, verbose=0)\n",
    "        history = model.fit(partial_train_data, partial_train_target,\n",
    "                            validation_data=(val_data, val_target),\n",
    "                            epochs=num_epoch, batch_size=512, verbose=0, \n",
    "                            callbacks=[CustomCallback()])\n",
    "\n",
    "        val_loss_hisory = history.history['val_loss']\n",
    "        mae_history = history.history['val_mae']\n",
    "        \n",
    "        val_loss_histories.append(val_loss_hisory)\n",
    "        mae_histories.append(mae_history)\n",
    "    \n",
    "    average_mae_history = [np.mean([x[i] for x in mae_histories])for i in range(num_epoch)]\n",
    "    average_val_loss_history = [np.mean([y[j] for y in val_loss_histories])for j in range(num_epoch)]\n",
    "    \n",
    "    return average_mae_history, average_val_loss_history, np.argmin(average_val_loss_history)"
   ]
  },
  {
   "cell_type": "markdown",
   "id": "8ce2f2a5",
   "metadata": {},
   "source": [
    "### 5.6. Develop a model that is better than the baseline\n",
    "\n",
    "To improve the statistical power of the baseline model, we are making a small adjustment to the baseline model's dense layer unit (dimensionality of the output space from 16 to 64). Later we will find the best hidden layer units using hyperparameter turning. Let's check how the new model performs."
   ]
  },
  {
   "cell_type": "code",
   "execution_count": 47,
   "id": "e0f1390b",
   "metadata": {},
   "outputs": [],
   "source": [
    "# the small model\n",
    "def smallModel(hidden_layer_dim):\n",
    "    # sequential model\n",
    "    model = models.Sequential()\n",
    "    # input layer with shape\n",
    "    model.add(layers.InputLayer(input_shape = (train_data.shape[1], )))\n",
    "    # dense hidden layer with parameterized units\n",
    "    model.add(layers.Dense(hidden_layer_dim, activation = 'relu'))\n",
    "    # output layer - 1 unit as it is a regression model\n",
    "    model.add(layers.Dense(1))\n",
    "    # configure the model: rmsprop with default leatning rate (0.001), loss = mean squared error\n",
    "    # metrics - mean absolute error for the regression model\n",
    "    model.compile(optimizer = 'rmsprop', loss = 'mse', metrics = ['mae'])\n",
    "    return model"
   ]
  },
  {
   "cell_type": "markdown",
   "id": "c111d923",
   "metadata": {},
   "source": [
    "**Train the small model with the input data and validate on the hold-out validation set**"
   ]
  },
  {
   "cell_type": "code",
   "execution_count": 48,
   "id": "c928e750",
   "metadata": {},
   "outputs": [],
   "source": [
    "# Train the model (in silent mode, verbose=0)\n",
    "model_small = smallModel(64)\n",
    "# Train the model on a larger batch size (512)\n",
    "# validation set is passed\n",
    "history_small = model_small.fit(partial_train_data, partial_train_target,\n",
    "                                validation_data=(val_data, val_target),\n",
    "                                epochs=20, batch_size=512, verbose=0)"
   ]
  },
  {
   "cell_type": "markdown",
   "id": "dcd92e03",
   "metadata": {},
   "source": [
    "Extract the training loss and validation loss and check the performance."
   ]
  },
  {
   "cell_type": "code",
   "execution_count": 85,
   "id": "773ccd52",
   "metadata": {},
   "outputs": [],
   "source": [
    "import matplotlib.pyplot as plt\n",
    "# plot the validation loss and training loss\n",
    "def plotLossVal(loss, val_loss):\n",
    "    # store epochs\n",
    "    epochs = range(1, len(loss) + 1)\n",
    "    # type of the curve\n",
    "    blue_dots = 'bo'\n",
    "    solid_blue_line = 'b'\n",
    "    # plot values and labels\n",
    "    plt.plot(epochs, loss, blue_dots, label = 'Training loss')\n",
    "    plt.plot(epochs, val_loss, solid_blue_line, label = 'Validation loss')\n",
    "    plt.title('Training and validation loss')\n",
    "    plt.xlabel('Epochs')\n",
    "    plt.ylabel('Loss')\n",
    "    plt.legend()\n",
    "    # show the plot\n",
    "    plt.show()\n",
    "    \n",
    "# store both loss values from the history object\n",
    "loss = history_small.history['loss']\n",
    "val_loss = history_small.history['val_loss']"
   ]
  },
  {
   "cell_type": "markdown",
   "id": "6035e3e5",
   "metadata": {},
   "source": [
    "We can analyse that the training loss and validation loss is lowering. The model underfits the data."
   ]
  },
  {
   "cell_type": "code",
   "execution_count": 87,
   "id": "da36171e",
   "metadata": {},
   "outputs": [
    {
     "name": "stdout",
     "output_type": "stream",
     "text": [
      "Holdout validation\n",
      "Small Model Loss:  0.1702626496553421\n",
      "Small Model MAE:  0.26372620463371277\n"
     ]
    }
   ],
   "source": [
    "val_mae = history_small.history['val_mae']\n",
    "print(\"Holdout validation\")\n",
    "print(\"Small Model Loss: \", np.min(val_loss))\n",
    "print(\"Small Model MAE: \", val_mae[np.argmin(val_loss)])"
   ]
  },
  {
   "cell_type": "code",
   "execution_count": 88,
   "id": "396fb9b8",
   "metadata": {},
   "outputs": [
    {
     "data": {
      "text/plain": [
       "19"
      ]
     },
     "execution_count": 88,
     "metadata": {},
     "output_type": "execute_result"
    }
   ],
   "source": [
    "np.argmin(val_loss)"
   ]
  },
  {
   "cell_type": "markdown",
   "id": "3fe1c700",
   "metadata": {},
   "source": [
    "The small model produced a better MAE on the validation set the training loss was also considerably lowered. It proves our small model outperformed the baseline model. This gives us further evidence that the hypothesis could be true.\n",
    "\n",
    "**Perform the K-Fold validation to better understand the model**"
   ]
  },
  {
   "cell_type": "code",
   "execution_count": 51,
   "id": "1615c886",
   "metadata": {},
   "outputs": [
    {
     "name": "stdout",
     "output_type": "stream",
     "text": [
      "processing fold 0\n",
      "processing fold 1\n",
      "processing fold 2\n",
      "processing fold 3\n"
     ]
    }
   ],
   "source": [
    "average_mae_history, average_val_loss_history, baseline_epoch = kFold(4, train_data, train_target, model_small)"
   ]
  },
  {
   "cell_type": "code",
   "execution_count": 52,
   "id": "dc040f11",
   "metadata": {},
   "outputs": [
    {
     "name": "stdout",
     "output_type": "stream",
     "text": [
      "K-Fold validation\n",
      "Small Model Loss:  0.12699240632355213\n",
      "Small Model MAE:  0.2108197845518589\n"
     ]
    }
   ],
   "source": [
    "print(\"K-Fold validation\")\n",
    "print(\"Small Model Loss: \", average_val_loss_history[baseline_epoch])\n",
    "print(\"Small Model MAE: \", average_mae_history[baseline_epoch])"
   ]
  },
  {
   "cell_type": "markdown",
   "id": "765af437",
   "metadata": {},
   "source": [
    "**Both Hold out validation and K-Fold validation (MAE) on the 'smallModel' proves that it performs better than the baseline model.**\n",
    "\n",
    "The K-Fold validation gives us a better MAE overall. It uses 500 epochs on four folds of data, the results are given above. \n",
    "\n",
    "**Let's check the model architecture using the summary() method. It shows the layer type, shape, and total trainable parameters.**"
   ]
  },
  {
   "cell_type": "code",
   "execution_count": 49,
   "id": "495ec3c8",
   "metadata": {},
   "outputs": [
    {
     "name": "stdout",
     "output_type": "stream",
     "text": [
      "Model: \"sequential_1\"\n",
      "_________________________________________________________________\n",
      " Layer (type)                Output Shape              Param #   \n",
      "=================================================================\n",
      " dense_2 (Dense)             (None, 64)                768       \n",
      "                                                                 \n",
      " dense_3 (Dense)             (None, 1)                 65        \n",
      "                                                                 \n",
      "=================================================================\n",
      "Total params: 833\n",
      "Trainable params: 833\n",
      "Non-trainable params: 0\n",
      "_________________________________________________________________\n"
     ]
    }
   ],
   "source": [
    "model_small.summary()"
   ]
  },
  {
   "cell_type": "markdown",
   "id": "177ff980",
   "metadata": {},
   "source": [
    "Plot the training loss and validation loss obtained from the hold-out validation."
   ]
  },
  {
   "cell_type": "code",
   "execution_count": 50,
   "id": "45a126d4",
   "metadata": {},
   "outputs": [
    {
     "data": {
      "image/png": "[encoded data removed]",
      "text/plain": [
       "<Figure size 432x288 with 1 Axes>"
      ]
     },
     "metadata": {
      "needs_background": "light"
     },
     "output_type": "display_data"
    }
   ],
   "source": [
    "plotLossVal(loss, val_loss)"
   ]
  },
  {
   "cell_type": "markdown",
   "id": "63a1aad3",
   "metadata": {},
   "source": [
    "The plot shows that the 'small model' continuously lower losses on both training data and validation data. Though the model beats the baseline, **we conclude that the 'small model' underfits the training data**. So we cannot generalise this model and use it on the test data."
   ]
  },
  {
   "cell_type": "markdown",
   "id": "31580054",
   "metadata": {},
   "source": [
    " ### 5.7 Create a model that overfits\n",
    " \n",
    "We aim to create an ideal model and it stands right at the border between underfitting and overfitting, under capacity and over capacity. We put the statistical power of the model to test by creating an overfitting model. So we can regularize and tune the model and work towards creating an ideal model.\n",
    "\n",
    "Steps to create an overfitting model:\n",
    "\n",
    "1. Add more layers<br>\n",
    "2. Create bigger layers<br>\n",
    "3. Use more epochs<br>"
   ]
  },
  {
   "cell_type": "code",
   "execution_count": 54,
   "id": "bebbefce",
   "metadata": {},
   "outputs": [],
   "source": [
    "# the overfitting\n",
    "def overfitModel(hidden_layer_dim):\n",
    "    # sequential model\n",
    "    model = models.Sequential()\n",
    "    # input layer with shape\n",
    "    model.add(layers.InputLayer(input_shape = (train_data.shape[1], )))\n",
    "    # dense hidden layer with parameterized units\n",
    "    for size in hidden_layer_dim:\n",
    "        model.add(layers.Dense(size, activation='relu'))\n",
    "    # output layer - 1 unit as it is a regression model\n",
    "    model.add(layers.Dense(1))\n",
    "    # configure the model: rmsprop with default leatning rate (0.001), loss = mean squared error\n",
    "    # metrics - mean absolute error for the regression model\n",
    "    model.compile(optimizer = 'rmsprop', loss = 'mse', metrics = ['mae'])\n",
    "    return model"
   ]
  },
  {
   "cell_type": "code",
   "execution_count": 77,
   "id": "d6d129b1",
   "metadata": {},
   "outputs": [
    {
     "name": "stdout",
     "output_type": "stream",
     "text": [
      "Epoch 1/50\n",
      "3/3 [==============================] - 1s 127ms/step - loss: 0.6217 - mae: 0.5696 - val_loss: 0.4484 - val_mae: 0.4324\n",
      "Epoch 2/50\n",
      "3/3 [==============================] - 0s 18ms/step - loss: 0.3184 - mae: 0.4012 - val_loss: 0.2445 - val_mae: 0.3335\n",
      "Epoch 3/50\n",
      "3/3 [==============================] - 0s 20ms/step - loss: 0.2248 - mae: 0.3187 - val_loss: 0.2751 - val_mae: 0.3189\n",
      "Epoch 4/50\n",
      "3/3 [==============================] - 0s 19ms/step - loss: 0.2165 - mae: 0.2988 - val_loss: 0.1926 - val_mae: 0.3220\n",
      "Epoch 5/50\n",
      "3/3 [==============================] - 0s 22ms/step - loss: 0.1959 - mae: 0.2957 - val_loss: 0.1712 - val_mae: 0.2611\n",
      "Epoch 6/50\n",
      "3/3 [==============================] - 0s 21ms/step - loss: 0.1795 - mae: 0.2618 - val_loss: 0.1990 - val_mae: 0.2637\n",
      "Epoch 7/50\n",
      "3/3 [==============================] - 0s 18ms/step - loss: 0.1745 - mae: 0.2557 - val_loss: 0.1618 - val_mae: 0.2883\n",
      "Epoch 8/50\n",
      "3/3 [==============================] - 0s 19ms/step - loss: 0.1708 - mae: 0.2614 - val_loss: 0.1925 - val_mae: 0.2524\n",
      "Epoch 9/50\n",
      "3/3 [==============================] - 0s 18ms/step - loss: 0.1741 - mae: 0.2586 - val_loss: 0.1504 - val_mae: 0.2535\n",
      "Epoch 10/50\n",
      "3/3 [==============================] - 0s 17ms/step - loss: 0.1613 - mae: 0.2429 - val_loss: 0.1958 - val_mae: 0.2550\n",
      "Epoch 11/50\n",
      "3/3 [==============================] - 0s 20ms/step - loss: 0.1766 - mae: 0.2666 - val_loss: 0.1484 - val_mae: 0.2458\n",
      "Epoch 12/50\n",
      "3/3 [==============================] - 0s 18ms/step - loss: 0.1579 - mae: 0.2331 - val_loss: 0.1572 - val_mae: 0.2786\n",
      "Epoch 13/50\n",
      "3/3 [==============================] - 0s 18ms/step - loss: 0.1719 - mae: 0.2583 - val_loss: 0.1839 - val_mae: 0.3447\n",
      "Epoch 14/50\n",
      "3/3 [==============================] - 0s 18ms/step - loss: 0.1728 - mae: 0.2841 - val_loss: 0.1589 - val_mae: 0.2564\n",
      "Epoch 15/50\n",
      "3/3 [==============================] - 0s 19ms/step - loss: 0.1495 - mae: 0.2362 - val_loss: 0.1788 - val_mae: 0.2489\n",
      "Epoch 16/50\n",
      "3/3 [==============================] - 0s 22ms/step - loss: 0.1492 - mae: 0.2240 - val_loss: 0.1700 - val_mae: 0.2915\n",
      "Epoch 17/50\n",
      "3/3 [==============================] - 0s 19ms/step - loss: 0.1645 - mae: 0.2499 - val_loss: 0.1940 - val_mae: 0.2477\n",
      "Epoch 18/50\n",
      "3/3 [==============================] - 0s 17ms/step - loss: 0.1603 - mae: 0.2461 - val_loss: 0.1595 - val_mae: 0.2717\n",
      "Epoch 19/50\n",
      "3/3 [==============================] - 0s 17ms/step - loss: 0.1460 - mae: 0.2403 - val_loss: 0.1678 - val_mae: 0.2464\n",
      "Epoch 20/50\n",
      "3/3 [==============================] - 0s 19ms/step - loss: 0.1477 - mae: 0.2182 - val_loss: 0.2104 - val_mae: 0.2663\n",
      "Epoch 21/50\n",
      "3/3 [==============================] - 0s 19ms/step - loss: 0.1628 - mae: 0.2529 - val_loss: 0.1757 - val_mae: 0.2941\n",
      "Epoch 22/50\n",
      "3/3 [==============================] - 0s 18ms/step - loss: 0.1460 - mae: 0.2416 - val_loss: 0.1754 - val_mae: 0.2873\n",
      "Epoch 23/50\n",
      "3/3 [==============================] - 0s 19ms/step - loss: 0.1531 - mae: 0.2383 - val_loss: 0.1796 - val_mae: 0.2424\n",
      "Epoch 24/50\n",
      "3/3 [==============================] - 0s 19ms/step - loss: 0.1435 - mae: 0.2221 - val_loss: 0.1949 - val_mae: 0.2629\n",
      "Epoch 25/50\n",
      "3/3 [==============================] - 0s 31ms/step - loss: 0.1552 - mae: 0.2565 - val_loss: 0.1675 - val_mae: 0.2458\n",
      "Epoch 26/50\n",
      "3/3 [==============================] - 0s 26ms/step - loss: 0.1406 - mae: 0.2246 - val_loss: 0.1678 - val_mae: 0.2866\n",
      "Epoch 27/50\n",
      "3/3 [==============================] - 0s 24ms/step - loss: 0.1464 - mae: 0.2399 - val_loss: 0.2444 - val_mae: 0.2879\n",
      "Epoch 28/50\n",
      "3/3 [==============================] - 0s 25ms/step - loss: 0.1694 - mae: 0.2653 - val_loss: 0.1678 - val_mae: 0.2752\n",
      "Epoch 29/50\n",
      "3/3 [==============================] - 0s 27ms/step - loss: 0.1517 - mae: 0.2339 - val_loss: 0.1689 - val_mae: 0.2821\n",
      "Epoch 30/50\n",
      "3/3 [==============================] - 0s 31ms/step - loss: 0.1538 - mae: 0.2422 - val_loss: 0.1739 - val_mae: 0.2396\n",
      "Epoch 31/50\n",
      "3/3 [==============================] - 0s 28ms/step - loss: 0.1450 - mae: 0.2366 - val_loss: 0.1548 - val_mae: 0.2256\n",
      "Epoch 32/50\n",
      "3/3 [==============================] - 0s 29ms/step - loss: 0.1379 - mae: 0.2096 - val_loss: 0.1603 - val_mae: 0.2371\n",
      "Epoch 33/50\n",
      "3/3 [==============================] - 0s 31ms/step - loss: 0.1368 - mae: 0.2129 - val_loss: 0.1732 - val_mae: 0.2585\n",
      "Epoch 34/50\n",
      "3/3 [==============================] - 0s 29ms/step - loss: 0.1460 - mae: 0.2381 - val_loss: 0.1721 - val_mae: 0.2351\n",
      "Epoch 35/50\n",
      "3/3 [==============================] - 0s 24ms/step - loss: 0.1378 - mae: 0.2261 - val_loss: 0.1670 - val_mae: 0.2353\n",
      "Epoch 36/50\n",
      "3/3 [==============================] - 0s 21ms/step - loss: 0.1420 - mae: 0.2273 - val_loss: 0.1647 - val_mae: 0.2563\n",
      "Epoch 37/50\n",
      "3/3 [==============================] - 0s 29ms/step - loss: 0.1351 - mae: 0.2194 - val_loss: 0.1668 - val_mae: 0.2599\n",
      "Epoch 38/50\n",
      "3/3 [==============================] - 0s 30ms/step - loss: 0.1360 - mae: 0.2151 - val_loss: 0.1699 - val_mae: 0.2563\n",
      "Epoch 39/50\n",
      "3/3 [==============================] - 0s 28ms/step - loss: 0.1354 - mae: 0.2225 - val_loss: 0.1650 - val_mae: 0.2612\n",
      "Epoch 40/50\n",
      "3/3 [==============================] - 0s 31ms/step - loss: 0.1378 - mae: 0.2207 - val_loss: 0.2309 - val_mae: 0.2809\n",
      "Epoch 41/50\n",
      "3/3 [==============================] - 0s 29ms/step - loss: 0.1815 - mae: 0.2907 - val_loss: 0.1556 - val_mae: 0.2755\n",
      "Epoch 42/50\n",
      "3/3 [==============================] - 0s 24ms/step - loss: 0.1393 - mae: 0.2329 - val_loss: 0.1588 - val_mae: 0.2305\n",
      "Epoch 43/50\n",
      "3/3 [==============================] - 0s 23ms/step - loss: 0.1330 - mae: 0.2078 - val_loss: 0.1589 - val_mae: 0.2237\n",
      "Epoch 44/50\n",
      "3/3 [==============================] - 0s 19ms/step - loss: 0.1414 - mae: 0.2302 - val_loss: 0.1678 - val_mae: 0.2729\n",
      "Epoch 45/50\n",
      "3/3 [==============================] - 0s 18ms/step - loss: 0.1407 - mae: 0.2218 - val_loss: 0.1934 - val_mae: 0.2427\n",
      "Epoch 46/50\n",
      "3/3 [==============================] - 0s 19ms/step - loss: 0.1438 - mae: 0.2325 - val_loss: 0.1727 - val_mae: 0.3006\n",
      "Epoch 47/50\n",
      "3/3 [==============================] - 0s 18ms/step - loss: 0.1448 - mae: 0.2412 - val_loss: 0.1643 - val_mae: 0.2332\n",
      "Epoch 48/50\n",
      "3/3 [==============================] - 0s 17ms/step - loss: 0.1308 - mae: 0.2087 - val_loss: 0.1654 - val_mae: 0.2260\n",
      "Epoch 49/50\n",
      "3/3 [==============================] - 0s 17ms/step - loss: 0.1372 - mae: 0.2125 - val_loss: 0.1695 - val_mae: 0.3046\n",
      "Epoch 50/50\n",
      "3/3 [==============================] - 0s 18ms/step - loss: 0.1389 - mae: 0.2409 - val_loss: 0.2017 - val_mae: 0.2626\n"
     ]
    }
   ],
   "source": [
    "# pass a tuple (64, 64, 64, 64)\n",
    "# 4 dense layers with 64 units each\n",
    "model_overfit = overfitModel((128,128,))\n",
    "# Train the model on a larger batch size (512) and epoch (100)\n",
    "# validation set is passed\n",
    "history_overfit = model_overfit.fit(partial_train_data, partial_train_target,\n",
    "                                validation_data=(val_data, val_target),\n",
    "                                epochs=50, batch_size=512)"
   ]
  },
  {
   "cell_type": "code",
   "execution_count": 89,
   "id": "f4f40e02",
   "metadata": {},
   "outputs": [],
   "source": [
    "# store both loss values from the history object\n",
    "loss = history_overfit.history['loss']\n",
    "val_loss = history_overfit.history['val_loss']"
   ]
  },
  {
   "cell_type": "code",
   "execution_count": 97,
   "id": "e5682cc3",
   "metadata": {},
   "outputs": [
    {
     "name": "stdout",
     "output_type": "stream",
     "text": [
      "Holdout validation\n",
      "Model Loss:  0.14840173721313477\n",
      "Model MAE:  0.24580542743206024\n"
     ]
    }
   ],
   "source": [
    "val_mae = history_overfit.history['val_mae']\n",
    "print(\"Holdout validation\")\n",
    "print(\"Model Loss: \", np.min(val_loss))\n",
    "print(\"Model MAE: \", val_mae[np.argmin(val_loss)])"
   ]
  },
  {
   "cell_type": "code",
   "execution_count": 80,
   "id": "1b4aa7a2",
   "metadata": {},
   "outputs": [
    {
     "data": {
      "image/png": "[encoded data removed]",
      "text/plain": [
       "<Figure size 640x480 with 1 Axes>"
      ]
     },
     "metadata": {},
     "output_type": "display_data"
    }
   ],
   "source": [
    "plotLossVal(loss, val_loss)"
   ]
  },
  {
   "cell_type": "markdown",
   "id": "6baf36f9",
   "metadata": {},
   "source": [
    "If you check the training log and the plot above, **the validation loss reaches its minimum at epoch 11 and then starts to increase. The training loss continues to fall and reaches 0.1308 at the 48th epoch with a higher validation loss.** This proves that after the 11th epoch the model starts overfitting. Let's check the total trainable parameters below."
   ]
  },
  {
   "cell_type": "code",
   "execution_count": 72,
   "id": "889e8e6a",
   "metadata": {},
   "outputs": [
    {
     "name": "stdout",
     "output_type": "stream",
     "text": [
      "Model: \"sequential_5\"\n",
      "_________________________________________________________________\n",
      " Layer (type)                Output Shape              Param #   \n",
      "=================================================================\n",
      " dense_20 (Dense)            (None, 128)               1536      \n",
      "                                                                 \n",
      " dense_21 (Dense)            (None, 128)               16512     \n",
      "                                                                 \n",
      " dense_22 (Dense)            (None, 1)                 129       \n",
      "                                                                 \n",
      "=================================================================\n",
      "Total params: 18,177\n",
      "Trainable params: 18,177\n",
      "Non-trainable params: 0\n",
      "_________________________________________________________________\n"
     ]
    }
   ],
   "source": [
    "# model summary\n",
    "model_overfit.summary()"
   ]
  },
  {
   "cell_type": "markdown",
   "id": "296a7dc9",
   "metadata": {},
   "source": [
    "Based on the idea of this model, we start the hyperparameter tuning to create an ideal model. "
   ]
  },
  {
   "cell_type": "markdown",
   "id": "acceff03",
   "metadata": {},
   "source": [
    "### 5.7 Hyperparameter tuning\n",
    "\n",
    "Hyperparameters of a model are all its non-trainable parameters (number of layers, number of units in a layer, learning rate, optimizer etc). We tune the hyperparameters considering their effect on the validation data set. With the right hyperparameters, the model performance will increase, and we will be able to evaluate it on the test data and generalise the model.\n",
    "\n",
    "**We use python's SciKeras library** [6, SciKeras], and it supports the use of Tensorflow and Keras with scikit learn. The SciKeras offers a wrapper called **'KerasRegressor'**, it is a **scikit-learn regressor API for Keras**. We can train the model using the KerasRegressor. \n",
    "\n",
    "Another great advantage of SciKeras is that we can implement **scikit learn's GridSearchCV**. We can specify the hyperparameters and use GridSearchCV to exhaustively search over the dataset to find the best parameter. It also implements **K-Fold cross-validation** to better evaluate the hyperparameters.\n",
    "\n",
    "**First, we tune a few hyperparameters and the epochs to build an overfitting model. Further tuning will be done on the overfitting model.**"
   ]
  },
  {
   "cell_type": "code",
   "execution_count": 65,
   "id": "262deb6b",
   "metadata": {},
   "outputs": [
    {
     "name": "stdout",
     "output_type": "stream",
     "text": [
      "Collecting scikeras\n",
      "  Downloading scikeras-0.9.0-py3-none-any.whl (27 kB)\n",
      "Requirement already satisfied: packaging>=0.21 in c:\\users\\jibin\\anaconda3\\envs\\conda_venv_tf\\lib\\site-packages (from scikeras) (21.3)\n",
      "Requirement already satisfied: scikit-learn>=1.0.0 in c:\\users\\jibin\\anaconda3\\envs\\conda_venv_tf\\lib\\site-packages (from scikeras) (1.1.2)\n",
      "Requirement already satisfied: pyparsing!=3.0.5,>=2.0.2 in c:\\users\\jibin\\anaconda3\\envs\\conda_venv_tf\\lib\\site-packages (from packaging>=0.21->scikeras) (3.0.9)\n",
      "Requirement already satisfied: joblib>=1.0.0 in c:\\users\\jibin\\anaconda3\\envs\\conda_venv_tf\\lib\\site-packages (from scikit-learn>=1.0.0->scikeras) (1.1.0)\n",
      "Requirement already satisfied: scipy>=1.3.2 in c:\\users\\jibin\\anaconda3\\envs\\conda_venv_tf\\lib\\site-packages (from scikit-learn>=1.0.0->scikeras) (1.9.0)\n",
      "Requirement already satisfied: numpy>=1.17.3 in c:\\users\\jibin\\anaconda3\\envs\\conda_venv_tf\\lib\\site-packages (from scikit-learn>=1.0.0->scikeras) (1.23.1)\n",
      "Requirement already satisfied: threadpoolctl>=2.0.0 in c:\\users\\jibin\\anaconda3\\envs\\conda_venv_tf\\lib\\site-packages (from scikit-learn>=1.0.0->scikeras) (3.1.0)\n",
      "Installing collected packages: scikeras\n",
      "Successfully installed scikeras-0.9.0\n"
     ]
    }
   ],
   "source": [
    "# Hyperparameter tuning [7, machinelearningmastery.com]\n",
    "# No code is directly compied from machinelearningmastery.com\n",
    "# install scikeras\n",
    "!pip install scikeras"
   ]
  },
  {
   "cell_type": "markdown",
   "id": "2d2975df",
   "metadata": {},
   "source": [
    "### 5.7.1. Tune Batch size and epochs \n",
    "**Epochs is not a hyperparameter**\n",
    "\n",
    "Use KerasRegressor and GridSearchCV to find the batch size and number of epochs."
   ]
  },
  {
   "cell_type": "code",
   "execution_count": 101,
   "id": "faf2efeb",
   "metadata": {},
   "outputs": [],
   "source": [
    "# load the libraries tensorflow,keras\n",
    "import tensorflow as tf\n",
    "import keras\n",
    "import numpy as np\n",
    "# load KerasRegressor and GridSearchCV\n",
    "from scikeras.wrappers import KerasRegressor\n",
    "from sklearn.model_selection import GridSearchCV"
   ]
  },
  {
   "cell_type": "markdown",
   "id": "19a23e90",
   "metadata": {},
   "source": [
    "**From here onwards, we are not commenting on every line of the code for model building as it is already done before.**"
   ]
  },
  {
   "cell_type": "code",
   "execution_count": 107,
   "id": "e86cc57e",
   "metadata": {},
   "outputs": [],
   "source": [
    "# create the model with default optimizer and metrics\n",
    "def modelFour(hidden_layer_dim, optimizer='rmsprop', activation = 'relu'):\n",
    "    model = models.Sequential()\n",
    "    model.add(layers.InputLayer(input_shape = (train_data.shape[1], )))\n",
    "    for size in hidden_layer_dim:\n",
    "        model.add(layers.Dense(size, activation=activation))\n",
    "    model.add(layers.Dense(1))\n",
    "    model.compile(optimizer = \"rmsprop\", loss = 'mse', metrics = ['mae'])\n",
    "    return model"
   ]
  },
  {
   "cell_type": "markdown",
   "id": "17f4030e",
   "metadata": {},
   "source": [
    "**Use KerasRegressor, the scikit-learn regressor API for Keras**"
   ]
  },
  {
   "cell_type": "code",
   "execution_count": 108,
   "id": "f8368706",
   "metadata": {},
   "outputs": [
    {
     "data": {
      "text/html": [
       "<style>#sk-container-id-3 {color: black;background-color: white;}#sk-container-id-3 pre{padding: 0;}#sk-container-id-3 div.sk-toggleable {background-color: white;}#sk-container-id-3 label.sk-toggleable__label {cursor: pointer;display: block;width: 100%;margin-bottom: 0;padding: 0.3em;box-sizing: border-box;text-align: center;}#sk-container-id-3 label.sk-toggleable__label-arrow:before {content: \"▸\";float: left;margin-right: 0.25em;color: #696969;}#sk-container-id-3 label.sk-toggleable__label-arrow:hover:before {color: black;}#sk-container-id-3 div.sk-estimator:hover label.sk-toggleable__label-arrow:before {color: black;}#sk-container-id-3 div.sk-toggleable__content {max-height: 0;max-width: 0;overflow: hidden;text-align: left;background-color: #f0f8ff;}#sk-container-id-3 div.sk-toggleable__content pre {margin: 0.2em;color: black;border-radius: 0.25em;background-color: #f0f8ff;}#sk-container-id-3 input.sk-toggleable__control:checked~div.sk-toggleable__content {max-height: 200px;max-width: 100%;overflow: auto;}#sk-container-id-3 input.sk-toggleable__control:checked~label.sk-toggleable__label-arrow:before {content: \"▾\";}#sk-container-id-3 div.sk-estimator input.sk-toggleable__control:checked~label.sk-toggleable__label {background-color: #d4ebff;}#sk-container-id-3 div.sk-label input.sk-toggleable__control:checked~label.sk-toggleable__label {background-color: #d4ebff;}#sk-container-id-3 input.sk-hidden--visually {border: 0;clip: rect(1px 1px 1px 1px);clip: rect(1px, 1px, 1px, 1px);height: 1px;margin: -1px;overflow: hidden;padding: 0;position: absolute;width: 1px;}#sk-container-id-3 div.sk-estimator {font-family: monospace;background-color: #f0f8ff;border: 1px dotted black;border-radius: 0.25em;box-sizing: border-box;margin-bottom: 0.5em;}#sk-container-id-3 div.sk-estimator:hover {background-color: #d4ebff;}#sk-container-id-3 div.sk-parallel-item::after {content: \"\";width: 100%;border-bottom: 1px solid gray;flex-grow: 1;}#sk-container-id-3 div.sk-label:hover label.sk-toggleable__label {background-color: #d4ebff;}#sk-container-id-3 div.sk-serial::before {content: \"\";position: absolute;border-left: 1px solid gray;box-sizing: border-box;top: 0;bottom: 0;left: 50%;z-index: 0;}#sk-container-id-3 div.sk-serial {display: flex;flex-direction: column;align-items: center;background-color: white;padding-right: 0.2em;padding-left: 0.2em;position: relative;}#sk-container-id-3 div.sk-item {position: relative;z-index: 1;}#sk-container-id-3 div.sk-parallel {display: flex;align-items: stretch;justify-content: center;background-color: white;position: relative;}#sk-container-id-3 div.sk-item::before, #sk-container-id-3 div.sk-parallel-item::before {content: \"\";position: absolute;border-left: 1px solid gray;box-sizing: border-box;top: 0;bottom: 0;left: 50%;z-index: -1;}#sk-container-id-3 div.sk-parallel-item {display: flex;flex-direction: column;z-index: 1;position: relative;background-color: white;}#sk-container-id-3 div.sk-parallel-item:first-child::after {align-self: flex-end;width: 50%;}#sk-container-id-3 div.sk-parallel-item:last-child::after {align-self: flex-start;width: 50%;}#sk-container-id-3 div.sk-parallel-item:only-child::after {width: 0;}#sk-container-id-3 div.sk-dashed-wrapped {border: 1px dashed gray;margin: 0 0.4em 0.5em 0.4em;box-sizing: border-box;padding-bottom: 0.4em;background-color: white;}#sk-container-id-3 div.sk-label label {font-family: monospace;font-weight: bold;display: inline-block;line-height: 1.2em;}#sk-container-id-3 div.sk-label-container {text-align: center;}#sk-container-id-3 div.sk-container {/* jupyter's `normalize.less` sets `[hidden] { display: none; }` but bootstrap.min.css set `[hidden] { display: none !important; }` so we also need the `!important` here to be able to override the default hidden behavior on the sphinx rendered scikit-learn.org. See: https://github.com/scikit-learn/scikit-learn/issues/21755 */display: inline-block !important;position: relative;}#sk-container-id-3 div.sk-text-repr-fallback {display: none;}</style><div id=\"sk-container-id-3\" class=\"sk-top-container\"><div class=\"sk-text-repr-fallback\"><pre>KerasRegressor(\n",
       "\tmodel=&lt;function modelFour at 0x000002859C899700&gt;\n",
       "\tbuild_fn=None\n",
       "\twarm_start=False\n",
       "\trandom_state=None\n",
       "\toptimizer=rmsprop\n",
       "\tloss=mse\n",
       "\tmetrics=None\n",
       "\tbatch_size=512\n",
       "\tvalidation_batch_size=None\n",
       "\tverbose=False\n",
       "\tcallbacks=None\n",
       "\tvalidation_split=0.0\n",
       "\tshuffle=True\n",
       "\trun_eagerly=False\n",
       "\tepochs=50\n",
       "\tactivation=relu\n",
       "\thidden_layer_dim=(128, 128)\n",
       ")</pre><b>In a Jupyter environment, please rerun this cell to show the HTML representation or trust the notebook. <br />On GitHub, the HTML representation is unable to render, please try loading this page with nbviewer.org.</b></div><div class=\"sk-container\" hidden><div class=\"sk-item\"><div class=\"sk-estimator sk-toggleable\"><input class=\"sk-toggleable__control sk-hidden--visually\" id=\"sk-estimator-id-3\" type=\"checkbox\" checked><label for=\"sk-estimator-id-3\" class=\"sk-toggleable__label sk-toggleable__label-arrow\">KerasRegressor</label><div class=\"sk-toggleable__content\"><pre>KerasRegressor(\n",
       "\tmodel=&lt;function modelFour at 0x000002859C899700&gt;\n",
       "\tbuild_fn=None\n",
       "\twarm_start=False\n",
       "\trandom_state=None\n",
       "\toptimizer=rmsprop\n",
       "\tloss=mse\n",
       "\tmetrics=None\n",
       "\tbatch_size=512\n",
       "\tvalidation_batch_size=None\n",
       "\tverbose=False\n",
       "\tcallbacks=None\n",
       "\tvalidation_split=0.0\n",
       "\tshuffle=True\n",
       "\trun_eagerly=False\n",
       "\tepochs=50\n",
       "\tactivation=relu\n",
       "\thidden_layer_dim=(128, 128)\n",
       ")</pre></div></div></div></div></div>"
      ],
      "text/plain": [
       "KerasRegressor(\n",
       "\tmodel=<function modelFour at 0x000002859C899700>\n",
       "\tbuild_fn=None\n",
       "\twarm_start=False\n",
       "\trandom_state=None\n",
       "\toptimizer=rmsprop\n",
       "\tloss=mse\n",
       "\tmetrics=None\n",
       "\tbatch_size=512\n",
       "\tvalidation_batch_size=None\n",
       "\tverbose=False\n",
       "\tcallbacks=None\n",
       "\tvalidation_split=0.0\n",
       "\tshuffle=True\n",
       "\trun_eagerly=False\n",
       "\tepochs=50\n",
       "\tactivation=relu\n",
       "\thidden_layer_dim=(128, 128)\n",
       ")"
      ]
     },
     "execution_count": 108,
     "metadata": {},
     "output_type": "execute_result"
    }
   ],
   "source": [
    "# pass the model, layer units etc\n",
    "model_small_BE = KerasRegressor(modelFour,\n",
    "                                loss=\"mse\",\n",
    "                                activation='relu',\n",
    "                                optimizer=\"rmsprop\",\n",
    "                                hidden_layer_dim=(128,128,), # same as the overfitting model\n",
    "                                epochs=50,\n",
    "                                batch_size = 512,\n",
    "                                verbose=False,)\n",
    "# train the regressor\n",
    "model_small_BE.fit(train_data, train_target)"
   ]
  },
  {
   "cell_type": "markdown",
   "id": "6db485fa",
   "metadata": {},
   "source": [
    "**Now, use GridSearchCV to find the best batch size and epoch. We use 4-fold cross-validation here.**\n",
    "\n",
    "We use neg_mean_absolute_error (negative of MAE) to evaluate the performance of cross-validation."
   ]
  },
  {
   "cell_type": "code",
   "execution_count": 109,
   "id": "4ad1b7ba",
   "metadata": {},
   "outputs": [
    {
     "name": "stdout",
     "output_type": "stream",
     "text": [
      "-0.22911679524519699 {'batch_size': 256, 'epochs': 20}\n"
     ]
    }
   ],
   "source": [
    "# declare the parameters\n",
    "params = {\n",
    "    \"batch_size\": [16, 32, 64, 128, 256, 512],\n",
    "    \"epochs\": [10, 20, 50, 100],\n",
    "}\n",
    "# grid search to find the best parameters\n",
    "gs = GridSearchCV(model_small_BE, params, refit=False, cv=4, scoring='neg_mean_absolute_error')\n",
    "# run the fit method with all set of params\n",
    "gs.fit(train_data, train_target)\n",
    "# print the best params \n",
    "print(gs.best_score_, gs.best_params_)"
   ]
  },
  {
   "cell_type": "markdown",
   "id": "f188d0a4",
   "metadata": {},
   "source": [
    "The best parameters are given below.\n",
    "\n",
    "**'batch_size': 256, 'epochs': 20, MAE: 0.2291**"
   ]
  },
  {
   "cell_type": "markdown",
   "id": "9ee212bc",
   "metadata": {},
   "source": [
    "### 5.7.2. Tune optimizer algorithms\n",
    "\n",
    "We are using the 'RMSprop' optimizer with the default learning rate (0.001). Let's tune the optimizer algorithm and find the best algorithm to train the network. Usually, we use 'rmsprop' or 'adam' for regression models. Let's add the best batch size (256) and epochs (20) identified in the last step to the KerasRegressor."
   ]
  },
  {
   "cell_type": "code",
   "execution_count": 110,
   "id": "01284d00",
   "metadata": {},
   "outputs": [],
   "source": [
    "# create model\n",
    "def modelFive(hidden_layer_dim, optimizer=\"rmsprop\", activation='relu'):\n",
    "    model = models.Sequential()\n",
    "    model.add(layers.InputLayer(input_shape = (train_data.shape[1], )))\n",
    "    for size in hidden_layer_dim:\n",
    "        model.add(layers.Dense(size, activation=activation))\n",
    "    model.add(layers.Dense(1,))\n",
    "    model.compile(optimizer=optimizer, loss = 'mse', metrics = ['mae'])\n",
    "    return model"
   ]
  },
  {
   "cell_type": "code",
   "execution_count": 118,
   "id": "7877cd09",
   "metadata": {},
   "outputs": [
    {
     "name": "stdout",
     "output_type": "stream",
     "text": [
      "-0.22930516912056825 {'optimizer': 'adam'}\n"
     ]
    }
   ],
   "source": [
    "model_small_OP = KerasRegressor(modelFive,\n",
    "                                loss=\"mse\",\n",
    "                                activation='relu',\n",
    "                                hidden_layer_dim=(128,128,),\n",
    "                                epochs=20, # change epochs to 20\n",
    "                                batch_size=256, # add new batch size\n",
    "                                verbose=False,)\n",
    "model_small_OP.fit(train_data, train_target)\n",
    "# optimizers\n",
    "params = {\n",
    "    \"optimizer\": [\"adam\", \"rmsprop\", \"SGD\"],\n",
    "}\n",
    "# gridsearch with cross validation\n",
    "gs = GridSearchCV(model_small_OP, params, refit=False, cv=4, scoring='neg_mean_absolute_error')\n",
    "gs.fit(train_data, train_target)\n",
    "# result\n",
    "print(gs.best_score_, gs.best_params_)"
   ]
  },
  {
   "cell_type": "markdown",
   "id": "7919868c",
   "metadata": {},
   "source": [
    "The best optimizer is given below.\n",
    "\n",
    "**'Optimizer': adam, MAE: 0.2293**"
   ]
  },
  {
   "cell_type": "markdown",
   "id": "101b08eb",
   "metadata": {},
   "source": [
    "### 5.7.3. Tune the learning rate\n",
    "\n",
    "Let's add the optimizer identified in the previous step to the new model. Tune the learning rate of the adam optimizer using the GridSearchCV algorithm."
   ]
  },
  {
   "cell_type": "code",
   "execution_count": 124,
   "id": "edb33a3d",
   "metadata": {},
   "outputs": [
    {
     "name": "stdout",
     "output_type": "stream",
     "text": [
      "-0.24935428184313274 {'optimizer__learning_rate': 0.01}\n"
     ]
    }
   ],
   "source": [
    "# add the tuned optimizer - adam\n",
    "def modelSix(hidden_layer_dim, optimizer=\"adam\", activation='relu'):\n",
    "    model = models.Sequential()\n",
    "    model.add(layers.InputLayer(input_shape = (train_data.shape[1], )))\n",
    "    for size in hidden_layer_dim:\n",
    "        model.add(layers.Dense(size, activation=activation))\n",
    "    model.add(layers.Dense(1))\n",
    "    model.compile(optimizer = optimizer, loss = 'mse', metrics = ['mae'])\n",
    "    return model\n",
    "\n",
    "model_small_LR = KerasRegressor(modelSix,\n",
    "                             loss=\"mse\",\n",
    "                             optimizer=\"adam\",\n",
    "                             activation='relu',\n",
    "                             hidden_layer_dim=(128,128,),\n",
    "                             epochs=20,\n",
    "                             batch_size=256,\n",
    "                             verbose=False,)\n",
    "model_small_LR.fit(train_data, train_target)\n",
    "\n",
    "params = {\n",
    "    'optimizer__learning_rate': [0.0001, 0.001, 0.01, 0.1],\n",
    "}\n",
    "gs = GridSearchCV(model_small_LR, params, refit=False, cv=4, scoring='neg_mean_absolute_error')\n",
    "gs.fit(train_data, train_target)\n",
    "print(gs.best_score_, gs.best_params_)"
   ]
  },
  {
   "cell_type": "markdown",
   "id": "16f5b25a",
   "metadata": {},
   "source": [
    "The best learning rate is given below.\n",
    "\n",
    "**'learning rate': 0.01,  MAE: 0.2494**"
   ]
  },
  {
   "cell_type": "markdown",
   "id": "f2abc0c2",
   "metadata": {},
   "source": [
    "### 5.7.4 Tune weight initialisation\n",
    "\n",
    "Let's add the optimizer's learning rate tuned in the previous step to the new model. Now, tune the weight initialisation using the GridSearchCV algorithm."
   ]
  },
  {
   "cell_type": "code",
   "execution_count": 134,
   "id": "60c81f75",
   "metadata": {},
   "outputs": [],
   "source": [
    "# init_mode represents the weight initialisation \n",
    "def modelSeven(hidden_layer_dim, init_mode='uniform', activation='relu'):\n",
    "    model = models.Sequential()\n",
    "    model.add(layers.InputLayer(input_shape = (train_data.shape[1], )))\n",
    "    for size in hidden_layer_dim:\n",
    "        # set kernel initializer\n",
    "        model.add(layers.Dense(size, kernel_initializer=init_mode, activation=activation))\n",
    "    model.add(layers.Dense(1, kernel_initializer=init_mode))\n",
    "    # add the learning rate\n",
    "    optimizer = keras.optimizers.Adam(learning_rate=0.01)\n",
    "    model.compile(optimizer = optimizer, loss = 'mse', metrics = ['mae'])\n",
    "    return model"
   ]
  },
  {
   "cell_type": "code",
   "execution_count": 135,
   "id": "db5f3578",
   "metadata": {},
   "outputs": [
    {
     "name": "stdout",
     "output_type": "stream",
     "text": [
      "-0.22817630309779918 {'init_mode': 'uniform'}\n"
     ]
    }
   ],
   "source": [
    "model_small_W = KerasRegressor(modelSeven,\n",
    "                               loss=\"mse\",\n",
    "                               activation='relu',\n",
    "                               optimizer=\"adam\",\n",
    "                               init_mode='uniform',\n",
    "                               hidden_layer_dim=(128,128,),\n",
    "                               optimizer__learning_rate=0.01, # add learning rate\n",
    "                               epochs=20,\n",
    "                               batch_size=256,\n",
    "                               verbose=False,)\n",
    "model_small_W.fit(train_data, train_target)\n",
    "# arameters for tuning\n",
    "params = {\n",
    "    \"init_mode\": ['uniform', 'lecun_uniform', 'lecun_normal', 'normal', 'zero', 'ones', \n",
    "                  'glorot_normal', 'glorot_uniform', 'he_normal', 'he_uniform', 'variance_scaling'],\n",
    "}\n",
    "# gridsearch\n",
    "gs = GridSearchCV(model_small_W, params, refit=False, cv=4, scoring='neg_mean_absolute_error')\n",
    "gs.fit(train_data, train_target)\n",
    "print(gs.best_score_, gs.best_params_)"
   ]
  },
  {
   "cell_type": "markdown",
   "id": "539f9824",
   "metadata": {},
   "source": [
    "The best weight initializer is given below.\n",
    "\n",
    "**'kernel_initializer': 'uniform', MAE: 0.2282**"
   ]
  },
  {
   "cell_type": "markdown",
   "id": "c7239b83",
   "metadata": {},
   "source": [
    "### 5.7.5. Tune activation functions\n",
    "\n",
    "Add the 'kernel_initializer': 'uniform', and tune the activation functions in this step. The activation function introduces non-linearity into the model's neurons. We choose the best activation function from **'relu', 'elu', 'selu', and 'gelu'.**"
   ]
  },
  {
   "cell_type": "code",
   "execution_count": 136,
   "id": "79721d31",
   "metadata": {},
   "outputs": [],
   "source": [
    "def modelEight(hidden_layer_dim, init_mode='uniform', activation='relu'):\n",
    "    model = models.Sequential()\n",
    "    model.add(layers.InputLayer(input_shape = (train_data.shape[1], )))\n",
    "    for size in hidden_layer_dim:\n",
    "        model.add(layers.Dense(size, kernel_initializer=init_mode, activation=activation))\n",
    "    model.add(layers.Dense(1, kernel_initializer=init_mode))\n",
    "    optimizer = keras.optimizers.Adam(learning_rate=0.01)\n",
    "    model.compile(optimizer = optimizer, loss = 'mse', metrics = ['mae'])\n",
    "    return model"
   ]
  },
  {
   "cell_type": "code",
   "execution_count": 137,
   "id": "ca0bddd7",
   "metadata": {},
   "outputs": [
    {
     "name": "stdout",
     "output_type": "stream",
     "text": [
      "-0.24109727370067774 {'activation': 'relu'}\n"
     ]
    }
   ],
   "source": [
    "model_small_OPT = KerasRegressor(modelEight,\n",
    "                               loss=\"mse\",\n",
    "                               activation='relu',\n",
    "                               optimizer=\"adam\",\n",
    "                               init_mode='uniform',\n",
    "                               hidden_layer_dim=(128,128,),\n",
    "                               optimizer__learning_rate=0.01,\n",
    "                               epochs=20,\n",
    "                               batch_size=256,\n",
    "                               verbose=False,)\n",
    "model_small_OPT.fit(train_data, train_target)\n",
    "# activation functions\n",
    "params = {\n",
    "    'activation': ['relu', 'elu', 'selu', 'gelu'],\n",
    "}\n",
    "# grid search\n",
    "gs = GridSearchCV(model_small_OPT, params, refit=False, cv=4, scoring='neg_mean_absolute_error')\n",
    "gs.fit(train_data, train_target)\n",
    "print(gs.best_score_, gs.best_params_)"
   ]
  },
  {
   "cell_type": "markdown",
   "id": "4bb7e564",
   "metadata": {},
   "source": [
    "The best activation function is given below.\n",
    "\n",
    "**'activation': 'relu', MAE: 0.2411**"
   ]
  },
  {
   "cell_type": "markdown",
   "id": "62e248a6",
   "metadata": {},
   "source": [
    "### 5.7.6. Tune dropout regularization\n",
    "\n",
    "Add the tuned optimizer (relu) to the model and start tuning the dropout rate. Dropout is a common and effective regularization method to fight overfitting. A dropout layer is added to the model, and a fraction of its output is zeroed."
   ]
  },
  {
   "cell_type": "code",
   "execution_count": 139,
   "id": "be161c3a",
   "metadata": {},
   "outputs": [],
   "source": [
    "# create model\n",
    "def modelNine(hidden_layer_dim, dropout, init_mode='uniform', activation='relu'):\n",
    "    model = models.Sequential()\n",
    "    model.add(layers.InputLayer(input_shape = (train_data.shape[1], )))\n",
    "    for size in hidden_layer_dim:\n",
    "        model.add(layers.Dense(size, kernel_initializer=init_mode, activation=activation))\n",
    "        # add dropout layer\n",
    "        model.add(layers.Dropout(dropout))\n",
    "    model.add(layers.Dense(1, kernel_initializer=init_mode))\n",
    "    optimizer = keras.optimizers.Adam(learning_rate=0.01)\n",
    "    model.compile(optimizer = optimizer, loss = 'mse', metrics = ['mae'])\n",
    "    return model"
   ]
  },
  {
   "cell_type": "code",
   "execution_count": 145,
   "id": "1feaf9c5",
   "metadata": {},
   "outputs": [
    {
     "name": "stdout",
     "output_type": "stream",
     "text": [
      "-0.23561423976523324 {'model__dropout': 0.2}\n"
     ]
    }
   ],
   "source": [
    "model_large_D = KerasRegressor(modelNine,\n",
    "                             loss=\"mse\",\n",
    "                             activation='relu',\n",
    "                             init_mode='uniform',\n",
    "                             optimizer=\"adam\",\n",
    "                             hidden_layer_dim=(128,128,),\n",
    "                             dropout = 0.0,\n",
    "                             optimizer__learning_rate=0.01,\n",
    "                             epochs=20,\n",
    "                             batch_size=256,\n",
    "                             verbose=False,)\n",
    "model_large_D.fit(train_data, train_target)\n",
    "# dropout values\n",
    "params = {\n",
    "    'model__dropout': [0, 0.1, 0.15, 0.2, 0.25, 0.3, 0.35, 0.4, 0.45, 0.5, 0.6],\n",
    "}\n",
    "gs = GridSearchCV(model_large_D, params, refit=False, cv=4, scoring='neg_mean_absolute_error')\n",
    "gs.fit(train_data, train_target)\n",
    "print(gs.best_score_, gs.best_params_)"
   ]
  },
  {
   "cell_type": "markdown",
   "id": "091ff134",
   "metadata": {},
   "source": [
    "The best dropout rate is given below.\n",
    "\n",
    "**'dropout': 0.2, MAE: 0.2356**"
   ]
  },
  {
   "cell_type": "markdown",
   "id": "93f1ab9e",
   "metadata": {},
   "source": [
    "### 5.7.7 L1 L2 Regularizer\n",
    "\n",
    "Add the tuned dropout rate (0.2) to the model.\n",
    "\n",
    "We use the regularization techniques to fight overfitting that occurs while training the model. It forces the layer weights to take a small value and makes the distribution of weights more regular.\n",
    "\n",
    "We try to find the best weight regularizer from ('l1', 'l2', 'l1_l2', None). The default value used is 0.1."
   ]
  },
  {
   "cell_type": "code",
   "execution_count": 146,
   "id": "9e60b83c",
   "metadata": {},
   "outputs": [],
   "source": [
    "# create model\n",
    "def modelTen(hidden_layer_dim, dropout=0.2, init_mode='uniform', activation='relu', regularizer='l1_l2'):\n",
    "    model = models.Sequential()\n",
    "    model.add(layers.InputLayer(input_shape = (train_data.shape[1], )))\n",
    "    for size in hidden_layer_dim:\n",
    "        model.add(layers.Dense(size, kernel_initializer=init_mode, kernel_regularizer=regularizer, activation=activation))\n",
    "        model.add(layers.Dropout(dropout))\n",
    "    model.add(layers.Dense(1, kernel_initializer=init_mode, kernel_regularizer=regularizer))\n",
    "    optimizer = keras.optimizers.Adam(learning_rate=0.01)\n",
    "    model.compile(optimizer = optimizer, loss = 'mse', metrics = ['mae'])\n",
    "    return model"
   ]
  },
  {
   "cell_type": "code",
   "execution_count": 155,
   "id": "e954d966",
   "metadata": {},
   "outputs": [
    {
     "name": "stdout",
     "output_type": "stream",
     "text": [
      "-0.2407896702621896 {'regularizer': 'l2'}\n"
     ]
    }
   ],
   "source": [
    "model_large_REG = KerasRegressor(modelTen,\n",
    "                             loss=\"mse\",\n",
    "                             activation='relu',\n",
    "                             init_mode='uniform',\n",
    "                             optimizer=\"adam\",\n",
    "                             hidden_layer_dim=(128,128,),\n",
    "                             dropout = 0.2,\n",
    "                             regularizer='l1_l2',\n",
    "                             optimizer__learning_rate=0.01,\n",
    "                             epochs=20,\n",
    "                             batch_size=256,\n",
    "                             verbose=False,)\n",
    "model_large_REG.fit(train_data, train_target)\n",
    "\n",
    "params = {\n",
    "    'regularizer': ['l1', 'l2', 'l1_l2', None],\n",
    "}\n",
    "gs = GridSearchCV(model_large_REG, params, refit=False, cv=4, scoring='neg_mean_absolute_error')\n",
    "gs.fit(train_data, train_target)\n",
    "print(gs.best_score_, gs.best_params_)"
   ]
  },
  {
   "cell_type": "markdown",
   "id": "ba347f54",
   "metadata": {},
   "source": [
    "The best weight regularizer is given below.\n",
    "\n",
    "**'regularizer': 'l2', MAE: 0.2401**"
   ]
  },
  {
   "cell_type": "markdown",
   "id": "a0cb34f6",
   "metadata": {},
   "source": [
    "### 5.7.8.Tune the hidden layer size and number\n",
    "\n",
    "The number of hidden layers and their size represents the capacity of the model. We started hyperparameter tuning with an overfitting model, and now it's time to apply the best hyperparameter values and find the ideal number of layers and size.\n",
    "\n",
    "We use grid search with cross-validation to select the ideal capacity that stands on the border between underfitting and overfitting. **The tuple length represents the length of the layers, and the elements represent the size of the layer (unit value).**"
   ]
  },
  {
   "cell_type": "code",
   "execution_count": 156,
   "id": "10cf403d",
   "metadata": {},
   "outputs": [],
   "source": [
    "# create the model with all the other tuned hyperparameters\n",
    "def modelEleven(hidden_layer_dim, dropout=0.2, init_mode='uniform', activation='relu', regularizer='l2'):\n",
    "    model = models.Sequential()\n",
    "    model.add(layers.InputLayer(input_shape = (train_data.shape[1], )))\n",
    "    for size in hidden_layer_dim:\n",
    "        model.add(layers.Dense(size, kernel_initializer=init_mode, kernel_regularizer=regularizer, activation=activation))\n",
    "        model.add(layers.Dropout(dropout))\n",
    "    model.add(layers.Dense(1, kernel_initializer=init_mode, kernel_regularizer=regularizer))\n",
    "    optimizer = keras.optimizers.Adam(learning_rate=0.01)\n",
    "    model.compile(optimizer = optimizer, loss = 'mse', metrics = ['mae'])\n",
    "    return model"
   ]
  },
  {
   "cell_type": "code",
   "execution_count": 157,
   "id": "c0fe690f",
   "metadata": {},
   "outputs": [
    {
     "name": "stdout",
     "output_type": "stream",
     "text": [
      "-0.2441292619295738 {'model__hidden_layer_dim': (128,)}\n"
     ]
    }
   ],
   "source": [
    "model_large_SIZE = KerasRegressor(modelEleven,\n",
    "                                  loss=\"mse\",\n",
    "                                  activation='relu',\n",
    "                                  init_mode='uniform',\n",
    "                                  optimizer=\"adam\",\n",
    "                                  hidden_layer_dim=(128,128,), # input the overfitting capacity\n",
    "                                  dropout = 0.2,\n",
    "                                  regularizer='l2',\n",
    "                                  optimizer__learning_rate=0.01,\n",
    "                                  epochs=20,\n",
    "                                  batch_size=256,\n",
    "                                  verbose=False,)\n",
    "model_large_SIZE.fit(train_data, train_target)\n",
    "# select from underfitting to overfitting layer capacities\n",
    "params = {\n",
    "    'model__hidden_layer_dim': [(128,128,), (128,64,), (128,32,), (128,16,), (128,8,), (128,), (64,64,), (64,)],\n",
    "}\n",
    "# gridsearch\n",
    "gs = GridSearchCV(model_large_SIZE, params, refit=False, cv=4, scoring='neg_mean_absolute_error')\n",
    "gs.fit(train_data, train_target)\n",
    "print(gs.best_score_, gs.best_params_)"
   ]
  },
  {
   "cell_type": "markdown",
   "id": "1779f7a6",
   "metadata": {},
   "source": [
    "The tuning result as follows\n",
    "\n",
    "**Layer dimension: (128,), Number of layers:1 (length of the tuple), MAE: 0.2441**"
   ]
  },
  {
   "cell_type": "markdown",
   "id": "888ce2eb",
   "metadata": {},
   "source": [
    "**With the capacity (layer numbers and size) tuning, we conclude our hyperparameter tuning and move on to build a balanced production model that can handle real-time problems.**"
   ]
  },
  {
   "cell_type": "markdown",
   "id": "fec664fb",
   "metadata": {},
   "source": [
    "### 5.8. Balanced Final Production Model\n",
    "\n",
    "Apply all the hyperparameters tuned from section 5.7.1 to 5.7.8 and develop the final model. After validation, we decide whether it is eligible to consider as our production model."
   ]
  },
  {
   "cell_type": "code",
   "execution_count": 251,
   "id": "d8e3eb04",
   "metadata": {},
   "outputs": [],
   "source": [
    "# create model applyting all the best hyperparameters\n",
    "def modelTwelve(hidden_layer_dim, dropout=0.2, init_mode='uniform', activation='relu', regularizer='l2'):\n",
    "    model = models.Sequential()\n",
    "    model.add(layers.InputLayer(input_shape = (train_data.shape[1], )))\n",
    "    for size in hidden_layer_dim:\n",
    "        model.add(layers.Dense(size, kernel_initializer=init_mode, kernel_regularizer=regularizer, activation=activation))\n",
    "        model.add(layers.Dropout(dropout))\n",
    "    model.add(layers.Dense(1, kernel_initializer=init_mode, kernel_regularizer=regularizer))\n",
    "    optimizer = keras.optimizers.Adam(learning_rate=0.01)\n",
    "    model.compile(optimizer = optimizer, loss = 'mse', metrics = ['mae'])\n",
    "    return model"
   ]
  },
  {
   "cell_type": "code",
   "execution_count": 252,
   "id": "54a96495",
   "metadata": {},
   "outputs": [],
   "source": [
    "# Train the model (in silent mode, verbose=0)\n",
    "# add the new layer capacity (number and size)\n",
    "model_balanced = modelTwelve((128, )) \n",
    "history_balanced = model_balanced.fit(partial_train_data, partial_train_target,\n",
    "                                validation_data=(val_data, val_target),\n",
    "                                epochs=20, batch_size=256, verbose=False)"
   ]
  },
  {
   "cell_type": "markdown",
   "id": "73574160",
   "metadata": {},
   "source": [
    "### 5.8.1 Production model validation - Hold out method"
   ]
  },
  {
   "cell_type": "code",
   "execution_count": 253,
   "id": "c18a2a93",
   "metadata": {},
   "outputs": [],
   "source": [
    "loss = history_balanced.history['loss']\n",
    "val_loss = history_balanced.history['val_loss']"
   ]
  },
  {
   "cell_type": "code",
   "execution_count": 254,
   "id": "b319e9ef",
   "metadata": {},
   "outputs": [
    {
     "name": "stdout",
     "output_type": "stream",
     "text": [
      "Holdout validation\n",
      "Balanced Model Loss:  0.18209147453308105\n",
      "Balanced Model MAE:  0.2590906620025635\n"
     ]
    }
   ],
   "source": [
    "val_mae = history_balanced.history['val_mae']\n",
    "print(\"Holdout validation\")\n",
    "print(\"Balanced Model Loss: \", np.min(val_loss))\n",
    "print(\"Balanced Model MAE: \", val_mae[np.argmin(val_loss)])"
   ]
  },
  {
   "cell_type": "markdown",
   "id": "690f7b33",
   "metadata": {},
   "source": [
    "**The hold-out validation of the balanced model seems good, let's plot the training and validation losses to get an idea about the overall performance.**"
   ]
  },
  {
   "cell_type": "code",
   "execution_count": 255,
   "id": "bf2c35fc",
   "metadata": {},
   "outputs": [
    {
     "data": {
      "image/png": "[encoded data removed]",
      "text/plain": [
       "<Figure size 640x480 with 1 Axes>"
      ]
     },
     "metadata": {},
     "output_type": "display_data"
    }
   ],
   "source": [
    "# plot the training and validation losses\n",
    "plotLossVal(loss, val_loss)"
   ]
  },
  {
   "cell_type": "markdown",
   "id": "ddcb716e",
   "metadata": {},
   "source": [
    "**The plot doesn't give any evidence for overfitting anymore, and the MAE (Hold-out) is better than the underfitting model (section 5.6).**"
   ]
  },
  {
   "cell_type": "code",
   "execution_count": 256,
   "id": "55387aa2",
   "metadata": {},
   "outputs": [
    {
     "data": {
      "text/plain": [
       "16"
      ]
     },
     "execution_count": 256,
     "metadata": {},
     "output_type": "execute_result"
    }
   ],
   "source": [
    "# check the best validation loss and the corresponding epoch\n",
    "np.argmin(val_loss)"
   ]
  },
  {
   "cell_type": "markdown",
   "id": "1c5dd421",
   "metadata": {},
   "source": [
    "### 5.8.2 Production model validation - K-Fold method\n",
    "\n",
    "Let's apply K-Fold validation to further analyse the performance of the balanced model."
   ]
  },
  {
   "cell_type": "code",
   "execution_count": 231,
   "id": "51f7a936",
   "metadata": {},
   "outputs": [
    {
     "name": "stdout",
     "output_type": "stream",
     "text": [
      "processing fold 0\n",
      "processing fold 1\n",
      "processing fold 2\n",
      "processing fold 3\n"
     ]
    }
   ],
   "source": [
    "# K-Fold validation\n",
    "average_mae_history, average_val_loss_history, baseline_epoch = kFold(4, train_data, train_target, model_balanced)"
   ]
  },
  {
   "cell_type": "code",
   "execution_count": 232,
   "id": "fa3c5ab4",
   "metadata": {},
   "outputs": [
    {
     "name": "stdout",
     "output_type": "stream",
     "text": [
      "K-Fold validation\n",
      "Balanced Model Loss:  0.19361986592411995\n",
      "Balanced Model MAE:  0.24870898574590683\n"
     ]
    }
   ],
   "source": [
    "print(\"K-Fold validation\")\n",
    "print(\"Balanced Model Loss: \", average_val_loss_history[baseline_epoch])\n",
    "print(\"Balanced Model MAE: \", average_mae_history[baseline_epoch])"
   ]
  },
  {
   "cell_type": "markdown",
   "id": "2c870585",
   "metadata": {},
   "source": [
    "The mean absolute error metric looks stable on both holdout and K-Fold validation. **Let's consider it as the production model, train the model on the available training data and evaluate it on the unseen data to determine how effective this model is.**"
   ]
  },
  {
   "cell_type": "code",
   "execution_count": 233,
   "id": "2d1ef07d",
   "metadata": {},
   "outputs": [
    {
     "name": "stdout",
     "output_type": "stream",
     "text": [
      "Model: \"sequential_1528\"\n",
      "_________________________________________________________________\n",
      " Layer (type)                Output Shape              Param #   \n",
      "=================================================================\n",
      " dense_4346 (Dense)          (None, 128)               1536      \n",
      "                                                                 \n",
      " dropout_920 (Dropout)       (None, 128)               0         \n",
      "                                                                 \n",
      " dense_4347 (Dense)          (None, 1)                 129       \n",
      "                                                                 \n",
      "=================================================================\n",
      "Total params: 1,665\n",
      "Trainable params: 1,665\n",
      "Non-trainable params: 0\n",
      "_________________________________________________________________\n"
     ]
    }
   ],
   "source": [
    "# check the summary\n",
    "model_balanced.summary()"
   ]
  },
  {
   "cell_type": "markdown",
   "id": "25aebf6e",
   "metadata": {},
   "source": [
    "## 6. Performance on Test Data (Unseen dataset)\n",
    "\n",
    "The validation of the production model is done in the above step. Now, let's train the production model on all the available training data (training + validation data) and evaluate it on the test data."
   ]
  },
  {
   "cell_type": "code",
   "execution_count": 257,
   "id": "666de09c",
   "metadata": {},
   "outputs": [
    {
     "data": {
      "text/plain": [
       "16"
      ]
     },
     "execution_count": 257,
     "metadata": {},
     "output_type": "execute_result"
    }
   ],
   "source": [
    "# find the best epoch (lowest validation loss)\n",
    "ep = np.argmin(val_loss)\n",
    "ep"
   ]
  },
  {
   "cell_type": "code",
   "execution_count": 258,
   "id": "6aa125bd",
   "metadata": {},
   "outputs": [],
   "source": [
    "# train the model with all the available data\n",
    "# add the best epoch value and batch size\n",
    "model_test = modelTwelve((128, ))\n",
    "history_test = model_test.fit(train_data, train_target,\n",
    "                                epochs=ep, batch_size=256, verbose=False)"
   ]
  },
  {
   "cell_type": "markdown",
   "id": "7656d149",
   "metadata": {},
   "source": [
    "Now it is time for the most important step in deep learning model development, that is, to evaluate the performance of the model on the unseen dataset (test data). **We need a better performance on the unseen dataset (than the above validation) to conclude that our dataset selection, preprocessing, feature selection, tuning, validation, and hypothesis are correct.** If we get a performance that is lower than the training set validation, we should reconsider the validation process, feature selection, apply dimensionality reduction and feature engineering etc."
   ]
  },
  {
   "cell_type": "code",
   "execution_count": 259,
   "id": "e6635498",
   "metadata": {},
   "outputs": [
    {
     "name": "stdout",
     "output_type": "stream",
     "text": [
      "5/5 [==============================] - 1s 3ms/step - loss: 0.1790 - mae: 0.2348\n"
     ]
    }
   ],
   "source": [
    "test_loss, test_acc = model_test.evaluate(test_data, test_target)"
   ]
  },
  {
   "cell_type": "markdown",
   "id": "bb75bdd1",
   "metadata": {},
   "source": [
    "**The MAE obtained (0.2348) on the unseen data is better than the hold out (0.2491) and K-Fold validation (0.2487). The performance of our model on the test data is better than the validation (section 5.8.2), and we developed a production model that is eligible to handle real-world problems. It proves our hypothesis is true and validation methods are reliable.**"
   ]
  },
  {
   "cell_type": "code",
   "execution_count": 238,
   "id": "5486b10b",
   "metadata": {},
   "outputs": [
    {
     "name": "stdout",
     "output_type": "stream",
     "text": [
      "Model: \"sequential_1529\"\n",
      "_________________________________________________________________\n",
      " Layer (type)                Output Shape              Param #   \n",
      "=================================================================\n",
      " dense_4348 (Dense)          (None, 128)               1536      \n",
      "                                                                 \n",
      " dropout_921 (Dropout)       (None, 128)               0         \n",
      "                                                                 \n",
      " dense_4349 (Dense)          (None, 1)                 129       \n",
      "                                                                 \n",
      "=================================================================\n",
      "Total params: 1,665\n",
      "Trainable params: 1,665\n",
      "Non-trainable params: 0\n",
      "_________________________________________________________________\n"
     ]
    }
   ],
   "source": [
    "# production model summary\n",
    "model_test.summary()"
   ]
  },
  {
   "cell_type": "markdown",
   "id": "0ced1dea",
   "metadata": {},
   "source": [
    "## 7. Results\n",
    "\n",
    "### 7.1. Workflow\n",
    "\n",
    "We followed the deep learning workflow given in the book Deep Learning With Python by Francois Chollet. The main goal was to develop a model with sufficient and limited capacity. A low-capacity model will underfit the training dataset and a high-capacity model will fail to generalise. We did extensive experiments and tuning to develop a balanced production model that stands right at the border between optimization and generalization.\n",
    "\n",
    "### 7.2. Occam's razor principle\n",
    "\n",
    "We followed Occam's principle in machine learning which prefers a simpler model with fewer trainable parameters over complex models. It is a heuristic that states complex hypotheses make more assumptions and fails to generalize. As a result, we chose a simpler model as our production model. \n",
    "\n",
    "### 7.3 Performance of the production model\n",
    "\n",
    "We do a holdout validation and K-Fold validation to better understand the performance of the production model on a validation dataset. The validation results obtained are given below.\n",
    "\n",
    "Hold out validation<br>\n",
    "Production Model Validation Loss:  0.18209147453308105<br>\n",
    "Production Model MAE:  0.2590906620025635<br>\n",
    "\n",
    "K-Fold validation<br>\n",
    "Production Model  Validation Loss:  0.19361986592411995<br>\n",
    "Production Model MAE:  0.24870898574590683\n",
    "\n",
    "As it is a regression model, we use the metrics 'Mean absolute error' to determine the performance of the model. The production model gives us a balanced performance compared to underfitting and overfitting models.\n",
    "\n",
    "### 7.3.1 Train the model on available data (Training + Validation data) and Evaluate on Test data\n",
    "\n",
    "**First, we train the production model on the available training data, that is the combination of training and validation data. The final evaluation is done on the test data (unseen dataset).**\n",
    "\n",
    "**The evaluation on the unseen dataset performed better than the production model validation, the results are as follows.**\n",
    "\n",
    "**Model Evaluation on unseen dataset (Test data)**<br>\n",
    "Mean Squared Error (loss): 0.1790<br>\n",
    "Mean Absolute Error (MAE): 0.2348\n",
    "\n",
    "The MAE obtained (0.2348) is better than the hold out (0.2491) and K-Fold validation (0.2487).\n",
    "\n",
    "**The result (MAE) shows that our validation procedure was reliable, production model is ready for deployment, and able to handle real-time data.** It may require timely optimization and maintenance to keep the level of performance for a long period."
   ]
  },
  {
   "cell_type": "markdown",
   "id": "2c353276",
   "metadata": {},
   "source": [
    "## 8. Conclusions\n",
    "\n",
    "### 8.1 Hypothesis\n",
    "\n",
    "Based on the experiments, **we got enough evidence to support the hypothesis**, and the individual's age, sex, BMI, smoking habit, and region data can be used to predict the medical costs billed by the insurer.\n",
    "\n",
    "### 8.2. Size of the dataset and deep learning\n",
    "\n",
    "As a rule of thumb, we use the ten times rule to determine the size of the dataset. You should have samples at least 10 times the number of features. If the features are not good, any dataset is irrelevant. Here we had 12 features and 1200 samples for training, and the results showed the feature selection was good enough. \n",
    "\n",
    "We did not use feature engineering because the features and sample size we chose already produced a good performance on the production data. As deep learning networks have a larger hypothesis space and it is less dependent on feature engineering. **The result showed that feature engineering is not always required for deep learning models.**\n",
    "\n",
    "### 8.3. Further Development\n",
    "\n",
    "We can deploy the model as part of a mobile or web application or make the service available as an API to handle real-world problems. In the long term, the concept drift may affect the performance of the model. It is the change in the properties of production data over time. \n",
    "\n",
    "To tackle concept drift and performance decay, we should collect real-world data, annotate, and retrain the model often. **The future won't behave like the past all the time, and we should be ready to train the next generation of the model as soon as we deploy it.**"
   ]
  },
  {
   "cell_type": "markdown",
   "id": "ca85f843",
   "metadata": {},
   "source": [
    "## 9. Reference"
   ]
  },
  {
   "cell_type": "markdown",
   "id": "86edd858",
   "metadata": {},
   "source": [
    "1. The national health expenditure, Centers for Medicare & Medicaid Services, 2020\n",
    "https://www.cms.gov/Research-Statistics-Data-and-Systems/Statistics-Trends-and-Reports/NationalHealthExpendData/NHE-Fact-Sheet\n",
    "\n",
    "2. Journal of the American Medical Association, 2017 \n",
    "https://www.ncbi.nlm.nih.gov/pmc/articles/PMC5818797/\n",
    "\n",
    "3. The Peterson-Kaiser Family Foundation Health System Tracker\n",
    "https://www.healthsystemtracker.org/brief/an-early-look-at-what-is-driving-health-costs-in-2023-aca-markets/\n",
    "\n",
    "4. Medical Cost Personal Dataset, Kaggle, 2018 \n",
    "https://www.kaggle.com/datasets/mirichoi0218/insurance\n",
    "\n",
    "5. License: Database Contents License (DbCL) v1.0\n",
    "https://opendatacommons.org/licenses/dbcl/1-0/\n",
    "\n",
    "6. SciKeras: https://www.adriangb.com/scikeras/stable/quickstart.html#training-a-model\n",
    "https://www.adriangb.com/scikeras/stable/notebooks/MLPClassifier_MLPRegressor.html\n",
    "\n",
    "7. Hyperparameter tuning \n",
    "https://machinelearningmastery.com/grid-search-hyperparameters-deep-learning-models-python-keras/\n",
    "\n",
    "8. Tensorflow, Keras, Regression\n",
    "https://www.tensorflow.org/tutorials/keras/regression"
   ]
  }
 ],
 "metadata": {
  "kernelspec": {
   "display_name": "Python 3 (ipykernel)",
   "language": "python",
   "name": "python3"
  },
  "language_info": {
   "codemirror_mode": {
    "name": "ipython",
    "version": 3
   },
   "file_extension": ".py",
   "mimetype": "text/x-python",
   "name": "python",
   "nbconvert_exporter": "python",
   "pygments_lexer": "ipython3",
   "version": "3.9.12"
  }
 },
 "nbformat": 4,
 "nbformat_minor": 5
}
